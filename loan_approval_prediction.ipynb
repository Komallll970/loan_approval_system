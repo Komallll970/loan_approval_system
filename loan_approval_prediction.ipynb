{
 "cells": [
  {
   "cell_type": "markdown",
   "id": "163efb70-15ba-41b5-83fb-252147103b94",
   "metadata": {},
   "source": [
    "#### ✅ STEP 1: Loading Dataset"
   ]
  },
  {
   "cell_type": "code",
   "execution_count": 192,
   "id": "60817ad3-83c0-4539-a7a3-fe0152e7fceb",
   "metadata": {},
   "outputs": [
    {
     "data": {
      "text/html": [
       "<div>\n",
       "<style scoped>\n",
       "    .dataframe tbody tr th:only-of-type {\n",
       "        vertical-align: middle;\n",
       "    }\n",
       "\n",
       "    .dataframe tbody tr th {\n",
       "        vertical-align: top;\n",
       "    }\n",
       "\n",
       "    .dataframe thead th {\n",
       "        text-align: right;\n",
       "    }\n",
       "</style>\n",
       "<table border=\"1\" class=\"dataframe\">\n",
       "  <thead>\n",
       "    <tr style=\"text-align: right;\">\n",
       "      <th></th>\n",
       "      <th>loan_id</th>\n",
       "      <th>dependents</th>\n",
       "      <th>education</th>\n",
       "      <th>self_employed</th>\n",
       "      <th>income_annum</th>\n",
       "      <th>loan_amount</th>\n",
       "      <th>loan_term</th>\n",
       "      <th>cibil_score</th>\n",
       "      <th>residential_assets_value</th>\n",
       "      <th>commercial_assets_value</th>\n",
       "      <th>luxury_assets_value</th>\n",
       "      <th>bank_asset_value</th>\n",
       "      <th>loan_status</th>\n",
       "    </tr>\n",
       "  </thead>\n",
       "  <tbody>\n",
       "    <tr>\n",
       "      <th>0</th>\n",
       "      <td>1</td>\n",
       "      <td>2</td>\n",
       "      <td>Graduate</td>\n",
       "      <td>No</td>\n",
       "      <td>9600000</td>\n",
       "      <td>29900000</td>\n",
       "      <td>12</td>\n",
       "      <td>778</td>\n",
       "      <td>2400000</td>\n",
       "      <td>17600000</td>\n",
       "      <td>22700000</td>\n",
       "      <td>8000000</td>\n",
       "      <td>Yes</td>\n",
       "    </tr>\n",
       "    <tr>\n",
       "      <th>1</th>\n",
       "      <td>2</td>\n",
       "      <td>0</td>\n",
       "      <td>Not Graduate</td>\n",
       "      <td>No</td>\n",
       "      <td>4100000</td>\n",
       "      <td>12200000</td>\n",
       "      <td>8</td>\n",
       "      <td>417</td>\n",
       "      <td>2700000</td>\n",
       "      <td>2200000</td>\n",
       "      <td>8800000</td>\n",
       "      <td>3300000</td>\n",
       "      <td>No</td>\n",
       "    </tr>\n",
       "    <tr>\n",
       "      <th>2</th>\n",
       "      <td>3</td>\n",
       "      <td>3</td>\n",
       "      <td>Graduate</td>\n",
       "      <td>No</td>\n",
       "      <td>9100000</td>\n",
       "      <td>29700000</td>\n",
       "      <td>20</td>\n",
       "      <td>506</td>\n",
       "      <td>7100000</td>\n",
       "      <td>4500000</td>\n",
       "      <td>33300000</td>\n",
       "      <td>12800000</td>\n",
       "      <td>No</td>\n",
       "    </tr>\n",
       "    <tr>\n",
       "      <th>3</th>\n",
       "      <td>4</td>\n",
       "      <td>3</td>\n",
       "      <td>Graduate</td>\n",
       "      <td>No</td>\n",
       "      <td>8200000</td>\n",
       "      <td>30700000</td>\n",
       "      <td>8</td>\n",
       "      <td>467</td>\n",
       "      <td>18200000</td>\n",
       "      <td>3300000</td>\n",
       "      <td>23300000</td>\n",
       "      <td>7900000</td>\n",
       "      <td>No</td>\n",
       "    </tr>\n",
       "    <tr>\n",
       "      <th>4</th>\n",
       "      <td>5</td>\n",
       "      <td>5</td>\n",
       "      <td>Not Graduate</td>\n",
       "      <td>No</td>\n",
       "      <td>9800000</td>\n",
       "      <td>24200000</td>\n",
       "      <td>20</td>\n",
       "      <td>382</td>\n",
       "      <td>12400000</td>\n",
       "      <td>8200000</td>\n",
       "      <td>29400000</td>\n",
       "      <td>5000000</td>\n",
       "      <td>No</td>\n",
       "    </tr>\n",
       "    <tr>\n",
       "      <th>...</th>\n",
       "      <td>...</td>\n",
       "      <td>...</td>\n",
       "      <td>...</td>\n",
       "      <td>...</td>\n",
       "      <td>...</td>\n",
       "      <td>...</td>\n",
       "      <td>...</td>\n",
       "      <td>...</td>\n",
       "      <td>...</td>\n",
       "      <td>...</td>\n",
       "      <td>...</td>\n",
       "      <td>...</td>\n",
       "      <td>...</td>\n",
       "    </tr>\n",
       "    <tr>\n",
       "      <th>4264</th>\n",
       "      <td>4265</td>\n",
       "      <td>5</td>\n",
       "      <td>Graduate</td>\n",
       "      <td>Yes</td>\n",
       "      <td>1000000</td>\n",
       "      <td>2300000</td>\n",
       "      <td>12</td>\n",
       "      <td>317</td>\n",
       "      <td>2800000</td>\n",
       "      <td>500000</td>\n",
       "      <td>3300000</td>\n",
       "      <td>800000</td>\n",
       "      <td>No</td>\n",
       "    </tr>\n",
       "    <tr>\n",
       "      <th>4265</th>\n",
       "      <td>4266</td>\n",
       "      <td>0</td>\n",
       "      <td>Not Graduate</td>\n",
       "      <td>Yes</td>\n",
       "      <td>3300000</td>\n",
       "      <td>11300000</td>\n",
       "      <td>20</td>\n",
       "      <td>559</td>\n",
       "      <td>4200000</td>\n",
       "      <td>2900000</td>\n",
       "      <td>11000000</td>\n",
       "      <td>1900000</td>\n",
       "      <td>Yes</td>\n",
       "    </tr>\n",
       "    <tr>\n",
       "      <th>4266</th>\n",
       "      <td>4267</td>\n",
       "      <td>2</td>\n",
       "      <td>Not Graduate</td>\n",
       "      <td>No</td>\n",
       "      <td>6500000</td>\n",
       "      <td>23900000</td>\n",
       "      <td>18</td>\n",
       "      <td>457</td>\n",
       "      <td>1200000</td>\n",
       "      <td>12400000</td>\n",
       "      <td>18100000</td>\n",
       "      <td>7300000</td>\n",
       "      <td>No</td>\n",
       "    </tr>\n",
       "    <tr>\n",
       "      <th>4267</th>\n",
       "      <td>4268</td>\n",
       "      <td>1</td>\n",
       "      <td>Not Graduate</td>\n",
       "      <td>No</td>\n",
       "      <td>4100000</td>\n",
       "      <td>12800000</td>\n",
       "      <td>8</td>\n",
       "      <td>780</td>\n",
       "      <td>8200000</td>\n",
       "      <td>700000</td>\n",
       "      <td>14100000</td>\n",
       "      <td>5800000</td>\n",
       "      <td>Yes</td>\n",
       "    </tr>\n",
       "    <tr>\n",
       "      <th>4268</th>\n",
       "      <td>4269</td>\n",
       "      <td>1</td>\n",
       "      <td>Graduate</td>\n",
       "      <td>No</td>\n",
       "      <td>9200000</td>\n",
       "      <td>29700000</td>\n",
       "      <td>10</td>\n",
       "      <td>607</td>\n",
       "      <td>17800000</td>\n",
       "      <td>11800000</td>\n",
       "      <td>35700000</td>\n",
       "      <td>12000000</td>\n",
       "      <td>Yes</td>\n",
       "    </tr>\n",
       "  </tbody>\n",
       "</table>\n",
       "<p>4269 rows × 13 columns</p>\n",
       "</div>"
      ],
      "text/plain": [
       "      loan_id  dependents     education self_employed  income_annum  \\\n",
       "0           1           2      Graduate            No       9600000   \n",
       "1           2           0  Not Graduate            No       4100000   \n",
       "2           3           3      Graduate            No       9100000   \n",
       "3           4           3      Graduate            No       8200000   \n",
       "4           5           5  Not Graduate            No       9800000   \n",
       "...       ...         ...           ...           ...           ...   \n",
       "4264     4265           5      Graduate           Yes       1000000   \n",
       "4265     4266           0  Not Graduate           Yes       3300000   \n",
       "4266     4267           2  Not Graduate            No       6500000   \n",
       "4267     4268           1  Not Graduate            No       4100000   \n",
       "4268     4269           1      Graduate            No       9200000   \n",
       "\n",
       "      loan_amount  loan_term  cibil_score  residential_assets_value  \\\n",
       "0        29900000         12          778                   2400000   \n",
       "1        12200000          8          417                   2700000   \n",
       "2        29700000         20          506                   7100000   \n",
       "3        30700000          8          467                  18200000   \n",
       "4        24200000         20          382                  12400000   \n",
       "...           ...        ...          ...                       ...   \n",
       "4264      2300000         12          317                   2800000   \n",
       "4265     11300000         20          559                   4200000   \n",
       "4266     23900000         18          457                   1200000   \n",
       "4267     12800000          8          780                   8200000   \n",
       "4268     29700000         10          607                  17800000   \n",
       "\n",
       "      commercial_assets_value  luxury_assets_value  bank_asset_value  \\\n",
       "0                    17600000             22700000           8000000   \n",
       "1                     2200000              8800000           3300000   \n",
       "2                     4500000             33300000          12800000   \n",
       "3                     3300000             23300000           7900000   \n",
       "4                     8200000             29400000           5000000   \n",
       "...                       ...                  ...               ...   \n",
       "4264                   500000              3300000            800000   \n",
       "4265                  2900000             11000000           1900000   \n",
       "4266                 12400000             18100000           7300000   \n",
       "4267                   700000             14100000           5800000   \n",
       "4268                 11800000             35700000          12000000   \n",
       "\n",
       "     loan_status  \n",
       "0            Yes  \n",
       "1             No  \n",
       "2             No  \n",
       "3             No  \n",
       "4             No  \n",
       "...          ...  \n",
       "4264          No  \n",
       "4265         Yes  \n",
       "4266          No  \n",
       "4267         Yes  \n",
       "4268         Yes  \n",
       "\n",
       "[4269 rows x 13 columns]"
      ]
     },
     "execution_count": 192,
     "metadata": {},
     "output_type": "execute_result"
    }
   ],
   "source": [
    "import pandas as pd\n",
    "df=pd.read_csv(r\"C:\\Users\\KOMAL\\Downloads\\loan_approval_datasets.csv\")\n",
    "df"
   ]
  },
  {
   "cell_type": "markdown",
   "id": "cef2164f-f9fe-445a-927d-6376aaf3898a",
   "metadata": {},
   "source": [
    "#### 📚 STEP 2: ANALYZING THE DATA\n",
    "##### 🧾 What is this dataset about?\n",
    "##### This dataset is from a Loan Prediction system, where the goal is to predict whether a loan should be approved (Loan_Status = Y) or not (Loan_Status = N) based on various applicant details. It simulates the decision-making process that banks or financial institutions follow when someone applies for a loan.\n",
    "##### 🎯 Objective of the Dataset\n",
    "##### The main objective is classification:\n",
    "##### 👉 Predict whether a loan application will be approved or rejected based on applicant information.\n",
    "##### Features in dataset are :-\n",
    "##### Loan_ID --> Unique ID for each loan application\n",
    "##### Dependents -->Number of people financially dependent on the applicant (0, 1, 2, 3+).\n",
    "##### Education --> Applicant’s education level (Graduate/Not Graduate)\n",
    "##### Self_Employed --> Self-employed means the person runs their own business, works freelance, or is not working for a regular employer.\n",
    "##### Income_Annum --> The total yearly (annual) income of the applicant. This helps lenders assess how much the applicant earns in a year.\n",
    "##### Loan_Amount --> The amount of money the applicant is requesting as a loan. Usually measured in currency units like rupees or dollars.\n",
    "##### Loan_Term --> The period over which the applicant agrees to repay the loan. It is usually expressed in months (e.g., 360 months = 30 years).\n",
    "##### CIBIL_Score --> Applicant’s credit score, used to evaluate creditworthiness\n",
    "##### Residential_Assets_Value --> Value of the applicant’s residential properties\n",
    "##### Commercial_Assets_Value --> Value of commercial properties owned by the applicant\n",
    "##### Luxury_Assets_Value --> Value of luxury assets like cars, jewelry, etc.\n",
    "##### Bank_Asset_Value --> Total value of assets held in the applicant’s bank\n",
    "##### Loan_Status --> Target Variable: Approved, Rejected"
   ]
  },
  {
   "cell_type": "markdown",
   "id": "bb73268c-03ae-4937-a538-20fe186db174",
   "metadata": {},
   "source": [
    "#### ✅ STEP 3: DATA CLEANING AND PREPROCESSING\n",
    "##### Here, First we will check whether there is requirement of data cleaning or not."
   ]
  },
  {
   "cell_type": "code",
   "execution_count": 193,
   "id": "f12e3c06-bf81-42c8-b44c-9b9a36b30d96",
   "metadata": {},
   "outputs": [
    {
     "data": {
      "text/plain": [
       "loan_id                     0\n",
       "dependents                  0\n",
       "education                   0\n",
       "self_employed               0\n",
       "income_annum                0\n",
       "loan_amount                 0\n",
       "loan_term                   0\n",
       "cibil_score                 0\n",
       "residential_assets_value    0\n",
       "commercial_assets_value     0\n",
       "luxury_assets_value         0\n",
       "bank_asset_value            0\n",
       "loan_status                 0\n",
       "dtype: int64"
      ]
     },
     "execution_count": 193,
     "metadata": {},
     "output_type": "execute_result"
    }
   ],
   "source": [
    "df.isnull().sum()"
   ]
  },
  {
   "cell_type": "markdown",
   "id": "d8cb9c9d-4d23-4eef-8449-cf46a21e4ff4",
   "metadata": {},
   "source": [
    "##### Here , there are no missing value so ,there is no requirement for the data clenaing."
   ]
  },
  {
   "cell_type": "markdown",
   "id": "7de074f1-e8b3-4f81-8d07-3d6fc366bbe8",
   "metadata": {},
   "source": [
    "#### 📊 Now ,as the data is already cleaned, next step is to preprocess the data\n"
   ]
  },
  {
   "cell_type": "code",
   "execution_count": 194,
   "id": "56bce60b-597d-42e3-bfcd-e2b1270e9c65",
   "metadata": {},
   "outputs": [
    {
     "data": {
      "text/html": [
       "<div>\n",
       "<style scoped>\n",
       "    .dataframe tbody tr th:only-of-type {\n",
       "        vertical-align: middle;\n",
       "    }\n",
       "\n",
       "    .dataframe tbody tr th {\n",
       "        vertical-align: top;\n",
       "    }\n",
       "\n",
       "    .dataframe thead th {\n",
       "        text-align: right;\n",
       "    }\n",
       "</style>\n",
       "<table border=\"1\" class=\"dataframe\">\n",
       "  <thead>\n",
       "    <tr style=\"text-align: right;\">\n",
       "      <th></th>\n",
       "      <th>loan_id</th>\n",
       "      <th>dependents</th>\n",
       "      <th>education</th>\n",
       "      <th>self_employed</th>\n",
       "      <th>income_annum</th>\n",
       "      <th>loan_amount</th>\n",
       "      <th>loan_term</th>\n",
       "      <th>cibil_score</th>\n",
       "      <th>residential_assets_value</th>\n",
       "      <th>commercial_assets_value</th>\n",
       "      <th>luxury_assets_value</th>\n",
       "      <th>bank_asset_value</th>\n",
       "      <th>loan_status</th>\n",
       "    </tr>\n",
       "  </thead>\n",
       "  <tbody>\n",
       "    <tr>\n",
       "      <th>0</th>\n",
       "      <td>1</td>\n",
       "      <td>2</td>\n",
       "      <td>Graduate</td>\n",
       "      <td>No</td>\n",
       "      <td>9600000</td>\n",
       "      <td>29900000</td>\n",
       "      <td>12</td>\n",
       "      <td>778</td>\n",
       "      <td>2400000</td>\n",
       "      <td>17600000</td>\n",
       "      <td>22700000</td>\n",
       "      <td>8000000</td>\n",
       "      <td>Yes</td>\n",
       "    </tr>\n",
       "    <tr>\n",
       "      <th>1</th>\n",
       "      <td>2</td>\n",
       "      <td>0</td>\n",
       "      <td>Not Graduate</td>\n",
       "      <td>No</td>\n",
       "      <td>4100000</td>\n",
       "      <td>12200000</td>\n",
       "      <td>8</td>\n",
       "      <td>417</td>\n",
       "      <td>2700000</td>\n",
       "      <td>2200000</td>\n",
       "      <td>8800000</td>\n",
       "      <td>3300000</td>\n",
       "      <td>No</td>\n",
       "    </tr>\n",
       "    <tr>\n",
       "      <th>2</th>\n",
       "      <td>3</td>\n",
       "      <td>3</td>\n",
       "      <td>Graduate</td>\n",
       "      <td>No</td>\n",
       "      <td>9100000</td>\n",
       "      <td>29700000</td>\n",
       "      <td>20</td>\n",
       "      <td>506</td>\n",
       "      <td>7100000</td>\n",
       "      <td>4500000</td>\n",
       "      <td>33300000</td>\n",
       "      <td>12800000</td>\n",
       "      <td>No</td>\n",
       "    </tr>\n",
       "    <tr>\n",
       "      <th>3</th>\n",
       "      <td>4</td>\n",
       "      <td>3</td>\n",
       "      <td>Graduate</td>\n",
       "      <td>No</td>\n",
       "      <td>8200000</td>\n",
       "      <td>30700000</td>\n",
       "      <td>8</td>\n",
       "      <td>467</td>\n",
       "      <td>18200000</td>\n",
       "      <td>3300000</td>\n",
       "      <td>23300000</td>\n",
       "      <td>7900000</td>\n",
       "      <td>No</td>\n",
       "    </tr>\n",
       "    <tr>\n",
       "      <th>4</th>\n",
       "      <td>5</td>\n",
       "      <td>5</td>\n",
       "      <td>Not Graduate</td>\n",
       "      <td>No</td>\n",
       "      <td>9800000</td>\n",
       "      <td>24200000</td>\n",
       "      <td>20</td>\n",
       "      <td>382</td>\n",
       "      <td>12400000</td>\n",
       "      <td>8200000</td>\n",
       "      <td>29400000</td>\n",
       "      <td>5000000</td>\n",
       "      <td>No</td>\n",
       "    </tr>\n",
       "  </tbody>\n",
       "</table>\n",
       "</div>"
      ],
      "text/plain": [
       "   loan_id  dependents     education self_employed  income_annum  loan_amount  \\\n",
       "0        1           2      Graduate            No       9600000     29900000   \n",
       "1        2           0  Not Graduate            No       4100000     12200000   \n",
       "2        3           3      Graduate            No       9100000     29700000   \n",
       "3        4           3      Graduate            No       8200000     30700000   \n",
       "4        5           5  Not Graduate            No       9800000     24200000   \n",
       "\n",
       "   loan_term  cibil_score  residential_assets_value  commercial_assets_value  \\\n",
       "0         12          778                   2400000                 17600000   \n",
       "1          8          417                   2700000                  2200000   \n",
       "2         20          506                   7100000                  4500000   \n",
       "3          8          467                  18200000                  3300000   \n",
       "4         20          382                  12400000                  8200000   \n",
       "\n",
       "   luxury_assets_value  bank_asset_value loan_status  \n",
       "0             22700000           8000000         Yes  \n",
       "1              8800000           3300000          No  \n",
       "2             33300000          12800000          No  \n",
       "3             23300000           7900000          No  \n",
       "4             29400000           5000000          No  "
      ]
     },
     "execution_count": 194,
     "metadata": {},
     "output_type": "execute_result"
    }
   ],
   "source": [
    "df.head()"
   ]
  },
  {
   "cell_type": "code",
   "execution_count": 195,
   "id": "7e7c51ce-2600-4d19-a297-c87a238127a5",
   "metadata": {},
   "outputs": [
    {
     "data": {
      "text/plain": [
       "dependents\n",
       "4    752\n",
       "3    727\n",
       "0    712\n",
       "2    708\n",
       "1    697\n",
       "5    673\n",
       "Name: count, dtype: int64"
      ]
     },
     "execution_count": 195,
     "metadata": {},
     "output_type": "execute_result"
    }
   ],
   "source": [
    "df[\"dependents\"].value_counts()"
   ]
  },
  {
   "cell_type": "code",
   "execution_count": 196,
   "id": "97d938d8-0512-4bb6-92f0-7dc06f0babcc",
   "metadata": {},
   "outputs": [
    {
     "data": {
      "text/plain": [
       "education\n",
       "Graduate        2144\n",
       "Not Graduate    2125\n",
       "Name: count, dtype: int64"
      ]
     },
     "execution_count": 196,
     "metadata": {},
     "output_type": "execute_result"
    }
   ],
   "source": [
    "df[\"education\"].value_counts()  # apply label encoding as there are only two columns"
   ]
  },
  {
   "cell_type": "code",
   "execution_count": 197,
   "id": "3688467e-615f-4047-887f-7308204c2e99",
   "metadata": {},
   "outputs": [
    {
     "data": {
      "text/plain": [
       "self_employed\n",
       "No     2384\n",
       "Yes    1885\n",
       "Name: count, dtype: int64"
      ]
     },
     "execution_count": 197,
     "metadata": {},
     "output_type": "execute_result"
    }
   ],
   "source": [
    "df[\"self_employed\"].value_counts()"
   ]
  },
  {
   "cell_type": "code",
   "execution_count": 198,
   "id": "4c0b934a-c46f-4434-a465-6867c5c6f073",
   "metadata": {},
   "outputs": [
    {
     "data": {
      "text/html": [
       "<div>\n",
       "<style scoped>\n",
       "    .dataframe tbody tr th:only-of-type {\n",
       "        vertical-align: middle;\n",
       "    }\n",
       "\n",
       "    .dataframe tbody tr th {\n",
       "        vertical-align: top;\n",
       "    }\n",
       "\n",
       "    .dataframe thead th {\n",
       "        text-align: right;\n",
       "    }\n",
       "</style>\n",
       "<table border=\"1\" class=\"dataframe\">\n",
       "  <thead>\n",
       "    <tr style=\"text-align: right;\">\n",
       "      <th></th>\n",
       "      <th>loan_id</th>\n",
       "      <th>dependents</th>\n",
       "      <th>income_annum</th>\n",
       "      <th>loan_amount</th>\n",
       "      <th>loan_term</th>\n",
       "      <th>cibil_score</th>\n",
       "      <th>residential_assets_value</th>\n",
       "      <th>commercial_assets_value</th>\n",
       "      <th>luxury_assets_value</th>\n",
       "      <th>bank_asset_value</th>\n",
       "    </tr>\n",
       "  </thead>\n",
       "  <tbody>\n",
       "    <tr>\n",
       "      <th>count</th>\n",
       "      <td>4269.000000</td>\n",
       "      <td>4269.000000</td>\n",
       "      <td>4.269000e+03</td>\n",
       "      <td>4.269000e+03</td>\n",
       "      <td>4269.000000</td>\n",
       "      <td>4269.000000</td>\n",
       "      <td>4.269000e+03</td>\n",
       "      <td>4.269000e+03</td>\n",
       "      <td>4.269000e+03</td>\n",
       "      <td>4.269000e+03</td>\n",
       "    </tr>\n",
       "    <tr>\n",
       "      <th>mean</th>\n",
       "      <td>2135.000000</td>\n",
       "      <td>2.498712</td>\n",
       "      <td>5.059124e+06</td>\n",
       "      <td>1.513345e+07</td>\n",
       "      <td>10.900445</td>\n",
       "      <td>599.936051</td>\n",
       "      <td>7.472617e+06</td>\n",
       "      <td>4.973155e+06</td>\n",
       "      <td>1.512631e+07</td>\n",
       "      <td>4.976692e+06</td>\n",
       "    </tr>\n",
       "    <tr>\n",
       "      <th>std</th>\n",
       "      <td>1232.498479</td>\n",
       "      <td>1.695910</td>\n",
       "      <td>2.806840e+06</td>\n",
       "      <td>9.043363e+06</td>\n",
       "      <td>5.709187</td>\n",
       "      <td>172.430401</td>\n",
       "      <td>6.503637e+06</td>\n",
       "      <td>4.388966e+06</td>\n",
       "      <td>9.103754e+06</td>\n",
       "      <td>3.250185e+06</td>\n",
       "    </tr>\n",
       "    <tr>\n",
       "      <th>min</th>\n",
       "      <td>1.000000</td>\n",
       "      <td>0.000000</td>\n",
       "      <td>2.000000e+05</td>\n",
       "      <td>3.000000e+05</td>\n",
       "      <td>2.000000</td>\n",
       "      <td>300.000000</td>\n",
       "      <td>-1.000000e+05</td>\n",
       "      <td>0.000000e+00</td>\n",
       "      <td>3.000000e+05</td>\n",
       "      <td>0.000000e+00</td>\n",
       "    </tr>\n",
       "    <tr>\n",
       "      <th>25%</th>\n",
       "      <td>1068.000000</td>\n",
       "      <td>1.000000</td>\n",
       "      <td>2.700000e+06</td>\n",
       "      <td>7.700000e+06</td>\n",
       "      <td>6.000000</td>\n",
       "      <td>453.000000</td>\n",
       "      <td>2.200000e+06</td>\n",
       "      <td>1.300000e+06</td>\n",
       "      <td>7.500000e+06</td>\n",
       "      <td>2.300000e+06</td>\n",
       "    </tr>\n",
       "    <tr>\n",
       "      <th>50%</th>\n",
       "      <td>2135.000000</td>\n",
       "      <td>3.000000</td>\n",
       "      <td>5.100000e+06</td>\n",
       "      <td>1.450000e+07</td>\n",
       "      <td>10.000000</td>\n",
       "      <td>600.000000</td>\n",
       "      <td>5.600000e+06</td>\n",
       "      <td>3.700000e+06</td>\n",
       "      <td>1.460000e+07</td>\n",
       "      <td>4.600000e+06</td>\n",
       "    </tr>\n",
       "    <tr>\n",
       "      <th>75%</th>\n",
       "      <td>3202.000000</td>\n",
       "      <td>4.000000</td>\n",
       "      <td>7.500000e+06</td>\n",
       "      <td>2.150000e+07</td>\n",
       "      <td>16.000000</td>\n",
       "      <td>748.000000</td>\n",
       "      <td>1.130000e+07</td>\n",
       "      <td>7.600000e+06</td>\n",
       "      <td>2.170000e+07</td>\n",
       "      <td>7.100000e+06</td>\n",
       "    </tr>\n",
       "    <tr>\n",
       "      <th>max</th>\n",
       "      <td>4269.000000</td>\n",
       "      <td>5.000000</td>\n",
       "      <td>9.900000e+06</td>\n",
       "      <td>3.950000e+07</td>\n",
       "      <td>20.000000</td>\n",
       "      <td>900.000000</td>\n",
       "      <td>2.910000e+07</td>\n",
       "      <td>1.940000e+07</td>\n",
       "      <td>3.920000e+07</td>\n",
       "      <td>1.470000e+07</td>\n",
       "    </tr>\n",
       "  </tbody>\n",
       "</table>\n",
       "</div>"
      ],
      "text/plain": [
       "           loan_id   dependents  income_annum   loan_amount    loan_term  \\\n",
       "count  4269.000000  4269.000000  4.269000e+03  4.269000e+03  4269.000000   \n",
       "mean   2135.000000     2.498712  5.059124e+06  1.513345e+07    10.900445   \n",
       "std    1232.498479     1.695910  2.806840e+06  9.043363e+06     5.709187   \n",
       "min       1.000000     0.000000  2.000000e+05  3.000000e+05     2.000000   \n",
       "25%    1068.000000     1.000000  2.700000e+06  7.700000e+06     6.000000   \n",
       "50%    2135.000000     3.000000  5.100000e+06  1.450000e+07    10.000000   \n",
       "75%    3202.000000     4.000000  7.500000e+06  2.150000e+07    16.000000   \n",
       "max    4269.000000     5.000000  9.900000e+06  3.950000e+07    20.000000   \n",
       "\n",
       "       cibil_score  residential_assets_value  commercial_assets_value  \\\n",
       "count  4269.000000              4.269000e+03             4.269000e+03   \n",
       "mean    599.936051              7.472617e+06             4.973155e+06   \n",
       "std     172.430401              6.503637e+06             4.388966e+06   \n",
       "min     300.000000             -1.000000e+05             0.000000e+00   \n",
       "25%     453.000000              2.200000e+06             1.300000e+06   \n",
       "50%     600.000000              5.600000e+06             3.700000e+06   \n",
       "75%     748.000000              1.130000e+07             7.600000e+06   \n",
       "max     900.000000              2.910000e+07             1.940000e+07   \n",
       "\n",
       "       luxury_assets_value  bank_asset_value  \n",
       "count         4.269000e+03      4.269000e+03  \n",
       "mean          1.512631e+07      4.976692e+06  \n",
       "std           9.103754e+06      3.250185e+06  \n",
       "min           3.000000e+05      0.000000e+00  \n",
       "25%           7.500000e+06      2.300000e+06  \n",
       "50%           1.460000e+07      4.600000e+06  \n",
       "75%           2.170000e+07      7.100000e+06  \n",
       "max           3.920000e+07      1.470000e+07  "
      ]
     },
     "execution_count": 198,
     "metadata": {},
     "output_type": "execute_result"
    }
   ],
   "source": [
    "df.describe()"
   ]
  },
  {
   "cell_type": "code",
   "execution_count": 199,
   "id": "e53ab1fa-12e1-45ab-9ec8-841afe8a79cd",
   "metadata": {},
   "outputs": [
    {
     "name": "stdout",
     "output_type": "stream",
     "text": [
      "<class 'pandas.core.frame.DataFrame'>\n",
      "RangeIndex: 4269 entries, 0 to 4268\n",
      "Data columns (total 13 columns):\n",
      " #   Column                    Non-Null Count  Dtype \n",
      "---  ------                    --------------  ----- \n",
      " 0   loan_id                   4269 non-null   int64 \n",
      " 1   dependents                4269 non-null   int64 \n",
      " 2   education                 4269 non-null   object\n",
      " 3   self_employed             4269 non-null   object\n",
      " 4   income_annum              4269 non-null   int64 \n",
      " 5   loan_amount               4269 non-null   int64 \n",
      " 6   loan_term                 4269 non-null   int64 \n",
      " 7   cibil_score               4269 non-null   int64 \n",
      " 8   residential_assets_value  4269 non-null   int64 \n",
      " 9   commercial_assets_value   4269 non-null   int64 \n",
      " 10  luxury_assets_value       4269 non-null   int64 \n",
      " 11  bank_asset_value          4269 non-null   int64 \n",
      " 12  loan_status               4269 non-null   object\n",
      "dtypes: int64(10), object(3)\n",
      "memory usage: 433.7+ KB\n"
     ]
    }
   ],
   "source": [
    "df.info()"
   ]
  },
  {
   "cell_type": "code",
   "execution_count": 200,
   "id": "88c4acbe-dc58-4ae2-9187-1a387cdb2570",
   "metadata": {},
   "outputs": [
    {
     "data": {
      "text/html": [
       "<div>\n",
       "<style scoped>\n",
       "    .dataframe tbody tr th:only-of-type {\n",
       "        vertical-align: middle;\n",
       "    }\n",
       "\n",
       "    .dataframe tbody tr th {\n",
       "        vertical-align: top;\n",
       "    }\n",
       "\n",
       "    .dataframe thead th {\n",
       "        text-align: right;\n",
       "    }\n",
       "</style>\n",
       "<table border=\"1\" class=\"dataframe\">\n",
       "  <thead>\n",
       "    <tr style=\"text-align: right;\">\n",
       "      <th></th>\n",
       "      <th>dependents</th>\n",
       "      <th>education</th>\n",
       "      <th>self_employed</th>\n",
       "      <th>income_annum</th>\n",
       "      <th>loan_amount</th>\n",
       "      <th>loan_term</th>\n",
       "      <th>cibil_score</th>\n",
       "      <th>residential_assets_value</th>\n",
       "      <th>commercial_assets_value</th>\n",
       "      <th>luxury_assets_value</th>\n",
       "      <th>bank_asset_value</th>\n",
       "      <th>loan_status</th>\n",
       "    </tr>\n",
       "  </thead>\n",
       "  <tbody>\n",
       "    <tr>\n",
       "      <th>0</th>\n",
       "      <td>2</td>\n",
       "      <td>Graduate</td>\n",
       "      <td>No</td>\n",
       "      <td>9600000</td>\n",
       "      <td>29900000</td>\n",
       "      <td>12</td>\n",
       "      <td>778</td>\n",
       "      <td>2400000</td>\n",
       "      <td>17600000</td>\n",
       "      <td>22700000</td>\n",
       "      <td>8000000</td>\n",
       "      <td>Yes</td>\n",
       "    </tr>\n",
       "    <tr>\n",
       "      <th>1</th>\n",
       "      <td>0</td>\n",
       "      <td>Not Graduate</td>\n",
       "      <td>No</td>\n",
       "      <td>4100000</td>\n",
       "      <td>12200000</td>\n",
       "      <td>8</td>\n",
       "      <td>417</td>\n",
       "      <td>2700000</td>\n",
       "      <td>2200000</td>\n",
       "      <td>8800000</td>\n",
       "      <td>3300000</td>\n",
       "      <td>No</td>\n",
       "    </tr>\n",
       "    <tr>\n",
       "      <th>2</th>\n",
       "      <td>3</td>\n",
       "      <td>Graduate</td>\n",
       "      <td>No</td>\n",
       "      <td>9100000</td>\n",
       "      <td>29700000</td>\n",
       "      <td>20</td>\n",
       "      <td>506</td>\n",
       "      <td>7100000</td>\n",
       "      <td>4500000</td>\n",
       "      <td>33300000</td>\n",
       "      <td>12800000</td>\n",
       "      <td>No</td>\n",
       "    </tr>\n",
       "    <tr>\n",
       "      <th>3</th>\n",
       "      <td>3</td>\n",
       "      <td>Graduate</td>\n",
       "      <td>No</td>\n",
       "      <td>8200000</td>\n",
       "      <td>30700000</td>\n",
       "      <td>8</td>\n",
       "      <td>467</td>\n",
       "      <td>18200000</td>\n",
       "      <td>3300000</td>\n",
       "      <td>23300000</td>\n",
       "      <td>7900000</td>\n",
       "      <td>No</td>\n",
       "    </tr>\n",
       "    <tr>\n",
       "      <th>4</th>\n",
       "      <td>5</td>\n",
       "      <td>Not Graduate</td>\n",
       "      <td>No</td>\n",
       "      <td>9800000</td>\n",
       "      <td>24200000</td>\n",
       "      <td>20</td>\n",
       "      <td>382</td>\n",
       "      <td>12400000</td>\n",
       "      <td>8200000</td>\n",
       "      <td>29400000</td>\n",
       "      <td>5000000</td>\n",
       "      <td>No</td>\n",
       "    </tr>\n",
       "    <tr>\n",
       "      <th>...</th>\n",
       "      <td>...</td>\n",
       "      <td>...</td>\n",
       "      <td>...</td>\n",
       "      <td>...</td>\n",
       "      <td>...</td>\n",
       "      <td>...</td>\n",
       "      <td>...</td>\n",
       "      <td>...</td>\n",
       "      <td>...</td>\n",
       "      <td>...</td>\n",
       "      <td>...</td>\n",
       "      <td>...</td>\n",
       "    </tr>\n",
       "    <tr>\n",
       "      <th>4264</th>\n",
       "      <td>5</td>\n",
       "      <td>Graduate</td>\n",
       "      <td>Yes</td>\n",
       "      <td>1000000</td>\n",
       "      <td>2300000</td>\n",
       "      <td>12</td>\n",
       "      <td>317</td>\n",
       "      <td>2800000</td>\n",
       "      <td>500000</td>\n",
       "      <td>3300000</td>\n",
       "      <td>800000</td>\n",
       "      <td>No</td>\n",
       "    </tr>\n",
       "    <tr>\n",
       "      <th>4265</th>\n",
       "      <td>0</td>\n",
       "      <td>Not Graduate</td>\n",
       "      <td>Yes</td>\n",
       "      <td>3300000</td>\n",
       "      <td>11300000</td>\n",
       "      <td>20</td>\n",
       "      <td>559</td>\n",
       "      <td>4200000</td>\n",
       "      <td>2900000</td>\n",
       "      <td>11000000</td>\n",
       "      <td>1900000</td>\n",
       "      <td>Yes</td>\n",
       "    </tr>\n",
       "    <tr>\n",
       "      <th>4266</th>\n",
       "      <td>2</td>\n",
       "      <td>Not Graduate</td>\n",
       "      <td>No</td>\n",
       "      <td>6500000</td>\n",
       "      <td>23900000</td>\n",
       "      <td>18</td>\n",
       "      <td>457</td>\n",
       "      <td>1200000</td>\n",
       "      <td>12400000</td>\n",
       "      <td>18100000</td>\n",
       "      <td>7300000</td>\n",
       "      <td>No</td>\n",
       "    </tr>\n",
       "    <tr>\n",
       "      <th>4267</th>\n",
       "      <td>1</td>\n",
       "      <td>Not Graduate</td>\n",
       "      <td>No</td>\n",
       "      <td>4100000</td>\n",
       "      <td>12800000</td>\n",
       "      <td>8</td>\n",
       "      <td>780</td>\n",
       "      <td>8200000</td>\n",
       "      <td>700000</td>\n",
       "      <td>14100000</td>\n",
       "      <td>5800000</td>\n",
       "      <td>Yes</td>\n",
       "    </tr>\n",
       "    <tr>\n",
       "      <th>4268</th>\n",
       "      <td>1</td>\n",
       "      <td>Graduate</td>\n",
       "      <td>No</td>\n",
       "      <td>9200000</td>\n",
       "      <td>29700000</td>\n",
       "      <td>10</td>\n",
       "      <td>607</td>\n",
       "      <td>17800000</td>\n",
       "      <td>11800000</td>\n",
       "      <td>35700000</td>\n",
       "      <td>12000000</td>\n",
       "      <td>Yes</td>\n",
       "    </tr>\n",
       "  </tbody>\n",
       "</table>\n",
       "<p>4269 rows × 12 columns</p>\n",
       "</div>"
      ],
      "text/plain": [
       "      dependents     education self_employed  income_annum  loan_amount  \\\n",
       "0              2      Graduate            No       9600000     29900000   \n",
       "1              0  Not Graduate            No       4100000     12200000   \n",
       "2              3      Graduate            No       9100000     29700000   \n",
       "3              3      Graduate            No       8200000     30700000   \n",
       "4              5  Not Graduate            No       9800000     24200000   \n",
       "...          ...           ...           ...           ...          ...   \n",
       "4264           5      Graduate           Yes       1000000      2300000   \n",
       "4265           0  Not Graduate           Yes       3300000     11300000   \n",
       "4266           2  Not Graduate            No       6500000     23900000   \n",
       "4267           1  Not Graduate            No       4100000     12800000   \n",
       "4268           1      Graduate            No       9200000     29700000   \n",
       "\n",
       "      loan_term  cibil_score  residential_assets_value  \\\n",
       "0            12          778                   2400000   \n",
       "1             8          417                   2700000   \n",
       "2            20          506                   7100000   \n",
       "3             8          467                  18200000   \n",
       "4            20          382                  12400000   \n",
       "...         ...          ...                       ...   \n",
       "4264         12          317                   2800000   \n",
       "4265         20          559                   4200000   \n",
       "4266         18          457                   1200000   \n",
       "4267          8          780                   8200000   \n",
       "4268         10          607                  17800000   \n",
       "\n",
       "      commercial_assets_value  luxury_assets_value  bank_asset_value  \\\n",
       "0                    17600000             22700000           8000000   \n",
       "1                     2200000              8800000           3300000   \n",
       "2                     4500000             33300000          12800000   \n",
       "3                     3300000             23300000           7900000   \n",
       "4                     8200000             29400000           5000000   \n",
       "...                       ...                  ...               ...   \n",
       "4264                   500000              3300000            800000   \n",
       "4265                  2900000             11000000           1900000   \n",
       "4266                 12400000             18100000           7300000   \n",
       "4267                   700000             14100000           5800000   \n",
       "4268                 11800000             35700000          12000000   \n",
       "\n",
       "     loan_status  \n",
       "0            Yes  \n",
       "1             No  \n",
       "2             No  \n",
       "3             No  \n",
       "4             No  \n",
       "...          ...  \n",
       "4264          No  \n",
       "4265         Yes  \n",
       "4266          No  \n",
       "4267         Yes  \n",
       "4268         Yes  \n",
       "\n",
       "[4269 rows x 12 columns]"
      ]
     },
     "execution_count": 200,
     "metadata": {},
     "output_type": "execute_result"
    }
   ],
   "source": [
    "df.drop(columns=\"loan_id\")"
   ]
  },
  {
   "cell_type": "markdown",
   "id": "17f29dd6-bedc-4183-aafe-e23779413cf3",
   "metadata": {},
   "source": [
    "#### ✅ Feature Selection \n",
    "##### It is statistical method used to select import features based on their statistical meaning w.r.t. dependent features."
   ]
  },
  {
   "cell_type": "markdown",
   "id": "5d98f354-203f-4858-8057-51ebbcb23964",
   "metadata": {},
   "source": [
    "#### Separating the categorical and numerical features"
   ]
  },
  {
   "cell_type": "code",
   "execution_count": 201,
   "id": "b7ba78be-f84d-4de4-b376-14190771b984",
   "metadata": {},
   "outputs": [],
   "source": [
    "numeric=df[[\"dependents\",\"income_annum\", \"loan_amount\", \"loan_term\", \"cibil_score\", \"residential_assets_value\", \"commercial_assets_value\", \"luxury_assets_value\", \"bank_asset_value\"\n",
    "]]"
   ]
  },
  {
   "cell_type": "code",
   "execution_count": 202,
   "id": "11008839-2ec2-4727-a6e8-0f9e8b38572f",
   "metadata": {},
   "outputs": [],
   "source": [
    "categoric=df[[\"education\",\"self_employed\",\"loan_status\"]]"
   ]
  },
  {
   "cell_type": "markdown",
   "id": "45b6759f-b77d-49f5-811d-ffa33367b21f",
   "metadata": {},
   "source": [
    "#### Converting the categorical columns to the numerical form"
   ]
  },
  {
   "cell_type": "code",
   "execution_count": 203,
   "id": "67267406-e6b2-4bae-babf-0e76196f15b6",
   "metadata": {},
   "outputs": [
    {
     "name": "stderr",
     "output_type": "stream",
     "text": [
      "C:\\Users\\KOMAL\\AppData\\Local\\Temp\\ipykernel_12408\\2355354568.py:1: FutureWarning: Downcasting behavior in `replace` is deprecated and will be removed in a future version. To retain the old behavior, explicitly call `result.infer_objects(copy=False)`. To opt-in to the future behavior, set `pd.set_option('future.no_silent_downcasting', True)`\n",
      "  categoric.loc[:, \"education\"] = categoric[\"education\"].replace({\"Graduate\": 1, \"Not Graduate\": 0})\n"
     ]
    }
   ],
   "source": [
    "categoric.loc[:, \"education\"] = categoric[\"education\"].replace({\"Graduate\": 1, \"Not Graduate\": 0})"
   ]
  },
  {
   "cell_type": "code",
   "execution_count": 204,
   "id": "a35de23c-de25-4d77-b223-eb76c302868f",
   "metadata": {},
   "outputs": [
    {
     "name": "stderr",
     "output_type": "stream",
     "text": [
      "C:\\Users\\KOMAL\\AppData\\Local\\Temp\\ipykernel_12408\\2958773232.py:1: FutureWarning: Downcasting behavior in `replace` is deprecated and will be removed in a future version. To retain the old behavior, explicitly call `result.infer_objects(copy=False)`. To opt-in to the future behavior, set `pd.set_option('future.no_silent_downcasting', True)`\n",
      "  categoric.loc[:, \"self_employed\"] = categoric[\"self_employed\"].replace({\"Yes\": 1, \"No\": 0})\n"
     ]
    }
   ],
   "source": [
    "categoric.loc[:, \"self_employed\"] = categoric[\"self_employed\"].replace({\"Yes\": 1, \"No\": 0})"
   ]
  },
  {
   "cell_type": "code",
   "execution_count": 205,
   "id": "3d7ffe66-1e65-4fc7-a5f0-bdf2225e8679",
   "metadata": {},
   "outputs": [
    {
     "data": {
      "text/html": [
       "<div>\n",
       "<style scoped>\n",
       "    .dataframe tbody tr th:only-of-type {\n",
       "        vertical-align: middle;\n",
       "    }\n",
       "\n",
       "    .dataframe tbody tr th {\n",
       "        vertical-align: top;\n",
       "    }\n",
       "\n",
       "    .dataframe thead th {\n",
       "        text-align: right;\n",
       "    }\n",
       "</style>\n",
       "<table border=\"1\" class=\"dataframe\">\n",
       "  <thead>\n",
       "    <tr style=\"text-align: right;\">\n",
       "      <th></th>\n",
       "      <th>education</th>\n",
       "      <th>self_employed</th>\n",
       "      <th>loan_status</th>\n",
       "    </tr>\n",
       "  </thead>\n",
       "  <tbody>\n",
       "    <tr>\n",
       "      <th>0</th>\n",
       "      <td>1</td>\n",
       "      <td>0</td>\n",
       "      <td>Yes</td>\n",
       "    </tr>\n",
       "    <tr>\n",
       "      <th>1</th>\n",
       "      <td>0</td>\n",
       "      <td>0</td>\n",
       "      <td>No</td>\n",
       "    </tr>\n",
       "    <tr>\n",
       "      <th>2</th>\n",
       "      <td>1</td>\n",
       "      <td>0</td>\n",
       "      <td>No</td>\n",
       "    </tr>\n",
       "    <tr>\n",
       "      <th>3</th>\n",
       "      <td>1</td>\n",
       "      <td>0</td>\n",
       "      <td>No</td>\n",
       "    </tr>\n",
       "    <tr>\n",
       "      <th>4</th>\n",
       "      <td>0</td>\n",
       "      <td>0</td>\n",
       "      <td>No</td>\n",
       "    </tr>\n",
       "    <tr>\n",
       "      <th>...</th>\n",
       "      <td>...</td>\n",
       "      <td>...</td>\n",
       "      <td>...</td>\n",
       "    </tr>\n",
       "    <tr>\n",
       "      <th>4264</th>\n",
       "      <td>1</td>\n",
       "      <td>1</td>\n",
       "      <td>No</td>\n",
       "    </tr>\n",
       "    <tr>\n",
       "      <th>4265</th>\n",
       "      <td>0</td>\n",
       "      <td>1</td>\n",
       "      <td>Yes</td>\n",
       "    </tr>\n",
       "    <tr>\n",
       "      <th>4266</th>\n",
       "      <td>0</td>\n",
       "      <td>0</td>\n",
       "      <td>No</td>\n",
       "    </tr>\n",
       "    <tr>\n",
       "      <th>4267</th>\n",
       "      <td>0</td>\n",
       "      <td>0</td>\n",
       "      <td>Yes</td>\n",
       "    </tr>\n",
       "    <tr>\n",
       "      <th>4268</th>\n",
       "      <td>1</td>\n",
       "      <td>0</td>\n",
       "      <td>Yes</td>\n",
       "    </tr>\n",
       "  </tbody>\n",
       "</table>\n",
       "<p>4269 rows × 3 columns</p>\n",
       "</div>"
      ],
      "text/plain": [
       "     education self_employed loan_status\n",
       "0            1             0         Yes\n",
       "1            0             0          No\n",
       "2            1             0          No\n",
       "3            1             0          No\n",
       "4            0             0          No\n",
       "...        ...           ...         ...\n",
       "4264         1             1          No\n",
       "4265         0             1         Yes\n",
       "4266         0             0          No\n",
       "4267         0             0         Yes\n",
       "4268         1             0         Yes\n",
       "\n",
       "[4269 rows x 3 columns]"
      ]
     },
     "execution_count": 205,
     "metadata": {},
     "output_type": "execute_result"
    }
   ],
   "source": [
    "categoric"
   ]
  },
  {
   "cell_type": "markdown",
   "id": "4ab54739-c66a-4468-9b7e-eeb53aa9d52b",
   "metadata": {},
   "source": [
    "#### ✅  CHI SQUARE TEST\n",
    "##### The Chi-Square Test (χ² test) is a statistical test used to determine whether there is a significant association between two categorical variables.In feature selection, it helps identify which independent categorical features are most relevant to the target variable (also categorical)."
   ]
  },
  {
   "cell_type": "code",
   "execution_count": 206,
   "id": "4121cfcb-f579-4dda-ada6-dc962d96dce3",
   "metadata": {},
   "outputs": [
    {
     "name": "stdout",
     "output_type": "stream",
     "text": [
      "         Feature  Chi2 Score   P-value\n",
      "1  self_employed    0.117928  0.731292\n",
      "0      education    0.051394  0.820655\n"
     ]
    }
   ],
   "source": [
    "import pandas as pd\n",
    "from sklearn.feature_selection import chi2\n",
    "from sklearn.preprocessing import LabelEncoder\n",
    "\n",
    "\n",
    "X = categoric.drop(\"loan_status\", axis=1)\n",
    "y = categoric[\"loan_status\"]\n",
    "\n",
    "# Step 5: Apply Chi-Square Test\n",
    "chi_scores = chi2(X, y)\n",
    "\n",
    "chi2_df = pd.DataFrame({\n",
    "    \"Feature\": X.columns,\n",
    "    \"Chi2 Score\": chi_scores[0],\n",
    "    \"P-value\": chi_scores[1]\n",
    "})\n",
    "\n",
    "# Step 7: Sort features by importance\n",
    "chi2_df.sort_values(by=\"Chi2 Score\", ascending=False, inplace=True)\n",
    "print(chi2_df)\n"
   ]
  },
  {
   "cell_type": "markdown",
   "id": "81ff3624-5f73-47ae-bf6e-3f08324bec97",
   "metadata": {},
   "source": [
    "##### Features with high Chi2 scores and low P-values are strong candidates for selection.\n",
    "##### Here education, self-employed column basically have normal relationship with target."
   ]
  },
  {
   "cell_type": "markdown",
   "id": "27adde94-0785-4381-95a3-3b77962ba66c",
   "metadata": {},
   "source": [
    "#### ✅ ANOVA Test\n",
    "##### It is used to find the \"f-score\" that is used to check if there is any relationship between the categorical and numerical column.\n",
    "##### Columns with highest f-score are considered as best(or having best relationship with the target.\n"
   ]
  },
  {
   "cell_type": "code",
   "execution_count": 207,
   "id": "069151a5-7301-4f1e-b7d8-4b8db5ba5857",
   "metadata": {},
   "outputs": [
    {
     "name": "stderr",
     "output_type": "stream",
     "text": [
      "C:\\Users\\KOMAL\\AppData\\Local\\Temp\\ipykernel_12408\\3066915367.py:1: FutureWarning: Downcasting behavior in `replace` is deprecated and will be removed in a future version. To retain the old behavior, explicitly call `result.infer_objects(copy=False)`. To opt-in to the future behavior, set `pd.set_option('future.no_silent_downcasting', True)`\n",
      "  categoric.loc[:, \"loan_status\"] = categoric[\"loan_status\"].replace({\"Yes\": 1, \"No\": 0})\n"
     ]
    },
    {
     "data": {
      "text/html": [
       "<div>\n",
       "<style scoped>\n",
       "    .dataframe tbody tr th:only-of-type {\n",
       "        vertical-align: middle;\n",
       "    }\n",
       "\n",
       "    .dataframe tbody tr th {\n",
       "        vertical-align: top;\n",
       "    }\n",
       "\n",
       "    .dataframe thead th {\n",
       "        text-align: right;\n",
       "    }\n",
       "</style>\n",
       "<table border=\"1\" class=\"dataframe\">\n",
       "  <thead>\n",
       "    <tr style=\"text-align: right;\">\n",
       "      <th></th>\n",
       "      <th>education</th>\n",
       "      <th>self_employed</th>\n",
       "      <th>loan_status</th>\n",
       "    </tr>\n",
       "  </thead>\n",
       "  <tbody>\n",
       "    <tr>\n",
       "      <th>0</th>\n",
       "      <td>1</td>\n",
       "      <td>0</td>\n",
       "      <td>1</td>\n",
       "    </tr>\n",
       "    <tr>\n",
       "      <th>1</th>\n",
       "      <td>0</td>\n",
       "      <td>0</td>\n",
       "      <td>0</td>\n",
       "    </tr>\n",
       "    <tr>\n",
       "      <th>2</th>\n",
       "      <td>1</td>\n",
       "      <td>0</td>\n",
       "      <td>0</td>\n",
       "    </tr>\n",
       "    <tr>\n",
       "      <th>3</th>\n",
       "      <td>1</td>\n",
       "      <td>0</td>\n",
       "      <td>0</td>\n",
       "    </tr>\n",
       "    <tr>\n",
       "      <th>4</th>\n",
       "      <td>0</td>\n",
       "      <td>0</td>\n",
       "      <td>0</td>\n",
       "    </tr>\n",
       "    <tr>\n",
       "      <th>...</th>\n",
       "      <td>...</td>\n",
       "      <td>...</td>\n",
       "      <td>...</td>\n",
       "    </tr>\n",
       "    <tr>\n",
       "      <th>4264</th>\n",
       "      <td>1</td>\n",
       "      <td>1</td>\n",
       "      <td>0</td>\n",
       "    </tr>\n",
       "    <tr>\n",
       "      <th>4265</th>\n",
       "      <td>0</td>\n",
       "      <td>1</td>\n",
       "      <td>1</td>\n",
       "    </tr>\n",
       "    <tr>\n",
       "      <th>4266</th>\n",
       "      <td>0</td>\n",
       "      <td>0</td>\n",
       "      <td>0</td>\n",
       "    </tr>\n",
       "    <tr>\n",
       "      <th>4267</th>\n",
       "      <td>0</td>\n",
       "      <td>0</td>\n",
       "      <td>1</td>\n",
       "    </tr>\n",
       "    <tr>\n",
       "      <th>4268</th>\n",
       "      <td>1</td>\n",
       "      <td>0</td>\n",
       "      <td>1</td>\n",
       "    </tr>\n",
       "  </tbody>\n",
       "</table>\n",
       "<p>4269 rows × 3 columns</p>\n",
       "</div>"
      ],
      "text/plain": [
       "     education self_employed loan_status\n",
       "0            1             0           1\n",
       "1            0             0           0\n",
       "2            1             0           0\n",
       "3            1             0           0\n",
       "4            0             0           0\n",
       "...        ...           ...         ...\n",
       "4264         1             1           0\n",
       "4265         0             1           1\n",
       "4266         0             0           0\n",
       "4267         0             0           1\n",
       "4268         1             0           1\n",
       "\n",
       "[4269 rows x 3 columns]"
      ]
     },
     "execution_count": 207,
     "metadata": {},
     "output_type": "execute_result"
    }
   ],
   "source": [
    "categoric.loc[:, \"loan_status\"] = categoric[\"loan_status\"].replace({\"Yes\": 1, \"No\": 0})\n",
    "categoric"
   ]
  },
  {
   "cell_type": "code",
   "execution_count": 208,
   "id": "4df83034-20b1-440e-8c77-0e3c3bbe21fb",
   "metadata": {},
   "outputs": [
    {
     "name": "stdout",
     "output_type": "stream",
     "text": [
      "[0 2 3 4 7]\n",
      "Index(['dependents', 'income_annum', 'loan_amount', 'loan_term', 'cibil_score',\n",
      "       'residential_assets_value', 'commercial_assets_value',\n",
      "       'luxury_assets_value', 'bank_asset_value'],\n",
      "      dtype='object')\n",
      "[1.40060017e+00 9.84668835e-01 1.11317638e+00 5.52254580e+01\n",
      " 6.23505459e+03 8.80876699e-01 2.90151593e-01 1.02072828e+00\n",
      " 1.96065908e-01]\n"
     ]
    }
   ],
   "source": [
    "from sklearn.feature_selection import f_classif, SelectKBest\n",
    "select=SelectKBest(f_classif,k=5)\n",
    "column=select.fit_transform(numeric,categoric[\"loan_status\"])\n",
    "selected=select.get_support(indices=True)\n",
    "print(selected)\n",
    "print(numeric.columns)\n",
    "print(select.scores_)"
   ]
  },
  {
   "cell_type": "markdown",
   "id": "94565267-835c-405c-916d-03049e9847f2",
   "metadata": {},
   "source": [
    "##### This shows that 'Dependents', 'loan_amount', 'loan_term', 'cibil_score', 'luxury_assets_value', columns have better f-score with Target i.e. Loan Status.\n",
    "##### But for now we will keep all the columns."
   ]
  },
  {
   "cell_type": "markdown",
   "id": "064b6693-48ec-4e2c-8f1e-a912637f069e",
   "metadata": {},
   "source": [
    "#### ✅ OUTLIER DETECTION"
   ]
  },
  {
   "cell_type": "markdown",
   "id": "68270953-3302-43fb-9de8-7cbf8d075727",
   "metadata": {},
   "source": [
    "##### Outlier detection is the process of identifying data points that differ significantly from the rest of the data.These unusual points are called outliers.\n",
    "##### Case 1: If column is  normally distributed , we apply z-score method.\n",
    "##### Case 1: If column is randomly distributed , we use DBSCAN"
   ]
  },
  {
   "cell_type": "code",
   "execution_count": 209,
   "id": "3865ef8a-2ec8-4fee-ad5e-c9052edea3ba",
   "metadata": {},
   "outputs": [
    {
     "data": {
      "image/png": "[encoded data removed]",
      "text/plain": [
       "<Figure size 400x400 with 1 Axes>"
      ]
     },
     "metadata": {},
     "output_type": "display_data"
    },
    {
     "data": {
      "image/png": "[encoded data removed]",
      "text/plain": [
       "<Figure size 400x400 with 1 Axes>"
      ]
     },
     "metadata": {},
     "output_type": "display_data"
    },
    {
     "data": {
      "image/png": "[encoded data removed]",
      "text/plain": [
       "<Figure size 400x400 with 1 Axes>"
      ]
     },
     "metadata": {},
     "output_type": "display_data"
    },
    {
     "data": {
      "image/png": "[encoded data removed]",
      "text/plain": [
       "<Figure size 400x400 with 1 Axes>"
      ]
     },
     "metadata": {},
     "output_type": "display_data"
    },
    {
     "data": {
      "image/png": "[encoded data removed]",
      "text/plain": [
       "<Figure size 400x400 with 1 Axes>"
      ]
     },
     "metadata": {},
     "output_type": "display_data"
    },
    {
     "data": {
      "image/png": "[encoded data removed]",
      "text/plain": [
       "<Figure size 400x400 with 1 Axes>"
      ]
     },
     "metadata": {},
     "output_type": "display_data"
    },
    {
     "data": {
      "image/png": "[encoded data removed]",
      "text/plain": [
       "<Figure size 400x400 with 1 Axes>"
      ]
     },
     "metadata": {},
     "output_type": "display_data"
    },
    {
     "data": {
      "image/png": "[encoded data removed]",
      "text/plain": [
       "<Figure size 400x400 with 1 Axes>"
      ]
     },
     "metadata": {},
     "output_type": "display_data"
    },
    {
     "data": {
      "image/png": "[encoded data removed]",
      "text/plain": [
       "<Figure size 400x400 with 1 Axes>"
      ]
     },
     "metadata": {},
     "output_type": "display_data"
    }
   ],
   "source": [
    "import matplotlib.pyplot as plt\n",
    "for i in numeric.columns:\n",
    "    plt.figure(figsize=(4,4))\n",
    "    plt.hist(numeric[i],color=\"lightblue\")\n",
    "    plt.title(i)\n",
    "    plt.show()"
   ]
  },
  {
   "cell_type": "markdown",
   "id": "fffa4cef-ac42-43a7-a9d1-17c1c172993e",
   "metadata": {},
   "source": [
    "##### ✅  Here residential_assets_value,commercial_assets_value, bank_assets_value have normal distribution\n",
    "##### So for normal distribution we will use z-score for outlier dtetction"
   ]
  },
  {
   "cell_type": "code",
   "execution_count": 210,
   "id": "da719362-736e-4dcd-bf78-29cf4b29058c",
   "metadata": {},
   "outputs": [],
   "source": [
    "def outlier_detect(columns):\n",
    "    mean=columns.mean()\n",
    "    std=columns.std()\n",
    "    z_score=(columns-mean)/std\n",
    "    return columns[(z_score>3) | (z_score<-3)]"
   ]
  },
  {
   "cell_type": "code",
   "execution_count": 211,
   "id": "c91e727d-2b92-45e9-a6df-c0f349a97516",
   "metadata": {},
   "outputs": [],
   "source": [
    "a=outlier_detect(numeric[\"residential_assets_value\"])\n",
    "b=outlier_detect(numeric[\"commercial_assets_value\"])\n",
    "c=outlier_detect(numeric[\"bank_asset_value\"])"
   ]
  },
  {
   "cell_type": "code",
   "execution_count": 212,
   "id": "688c9a46-b600-4eca-ab67-55c52f642eec",
   "metadata": {},
   "outputs": [
    {
     "data": {
      "text/plain": [
       "((4269, 3), (4269, 9))"
      ]
     },
     "execution_count": 212,
     "metadata": {},
     "output_type": "execute_result"
    }
   ],
   "source": [
    "categoric.shape,numeric.shape"
   ]
  },
  {
   "cell_type": "code",
   "execution_count": 213,
   "id": "9153e9dd-2999-43c0-96af-18e8b0fb173c",
   "metadata": {},
   "outputs": [
    {
     "name": "stdout",
     "output_type": "stream",
     "text": [
      "16\n",
      "17\n",
      "0\n"
     ]
    }
   ],
   "source": [
    "print(len(a)) ## means there are 16 outier in ressidential assets\n",
    "print(len(b))## means there are 17 outier in commercial assets\n",
    "print(len(c))## means there are 0 outier in bank assets"
   ]
  },
  {
   "cell_type": "code",
   "execution_count": 214,
   "id": "dfcd3b62-0c94-4add-9c6f-0791013f9fcb",
   "metadata": {},
   "outputs": [
    {
     "data": {
      "text/plain": [
       "((4253, 3), (4253, 9))"
      ]
     },
     "execution_count": 214,
     "metadata": {},
     "output_type": "execute_result"
    }
   ],
   "source": [
    "f=numeric[\"residential_assets_value\"].isin(a)\n",
    "numeric=numeric[~f]\n",
    "categoric=categoric[~f]\n",
    "categoric.shape,numeric.shape"
   ]
  },
  {
   "cell_type": "code",
   "execution_count": 215,
   "id": "d67708b1-b77f-41a2-a690-c411c2362ba0",
   "metadata": {},
   "outputs": [
    {
     "data": {
      "text/plain": [
       "((4236, 3), (4236, 9))"
      ]
     },
     "execution_count": 215,
     "metadata": {},
     "output_type": "execute_result"
    }
   ],
   "source": [
    "f=numeric[\"commercial_assets_value\"].isin(b)\n",
    "numeric=numeric[~f]\n",
    "categoric=categoric[~f]\n",
    "categoric.shape,numeric.shape"
   ]
  },
  {
   "cell_type": "markdown",
   "id": "ea084c04-b7c7-4e02-90cb-86bb72fba524",
   "metadata": {},
   "source": [
    "##### ✅ For randomly Distributed column that is credit history we  will use DBSCAN\n",
    "##### randomly distributed columns are \"dependents\",\"income_annum\", \"loan_amount\", \"loan_term\", \"cibil_score\",  \"luxury_assets_value\", "
   ]
  },
  {
   "cell_type": "code",
   "execution_count": 216,
   "id": "5053e428-89fe-4449-9891-b79a11a300d4",
   "metadata": {},
   "outputs": [],
   "source": [
    "import pandas as pd\n",
    "from sklearn.preprocessing import MinMaxScaler\n",
    "data = pd.DataFrame({\n",
    "    \"dependents\": numeric[\"dependents\"],\n",
    "    \"income_annum\": numeric[\"income_annum\"],\n",
    "    \"loan_amount\": numeric[\"loan_amount\"],\n",
    "    \"loan_term\": numeric[\"loan_term\"],\n",
    "    \"cibil_score\": numeric[\"cibil_score\"],\n",
    "    \"luxury_assets_value\": numeric[\"luxury_assets_value\"],\n",
    "    \"loan_status\": categoric[\"loan_status\"]\n",
    "})\n",
    "\n",
    "# Step 2: Apply MinMaxScaler\n",
    "scaler = MinMaxScaler()\n",
    "data = scaler.fit_transform(data)\n",
    "\n",
    "\n"
   ]
  },
  {
   "cell_type": "code",
   "execution_count": 217,
   "id": "dfb222da-1734-4b17-9365-3e0ade869064",
   "metadata": {},
   "outputs": [
    {
     "name": "stdout",
     "output_type": "stream",
     "text": [
      "[[0.4        0.96907216 0.75510204 ... 0.79666667 0.57583548 1.        ]\n",
      " [0.         0.40206186 0.30357143 ... 0.195      0.218509   0.        ]\n",
      " [0.6        0.91752577 0.75       ... 0.34333333 0.84832905 0.        ]\n",
      " ...\n",
      " [0.4        0.64948454 0.60204082 ... 0.26166667 0.45758355 0.        ]\n",
      " [0.2        0.40206186 0.31887755 ... 0.8        0.35475578 1.        ]\n",
      " [0.2        0.92783505 0.75       ... 0.51166667 0.91002571 1.        ]]\n"
     ]
    }
   ],
   "source": [
    "print(data)"
   ]
  },
  {
   "cell_type": "markdown",
   "id": "00e6cc67-0ee9-4af5-a027-6a577cb6a654",
   "metadata": {},
   "source": [
    "#### Finding the value for eps using kneighbors and kneedle algorithm"
   ]
  },
  {
   "cell_type": "code",
   "execution_count": 218,
   "id": "7c181791-acff-40c9-8bba-7dec8171affa",
   "metadata": {},
   "outputs": [
    {
     "data": {
      "image/png": "[encoded data removed]",
      "text/plain": [
       "<Figure size 640x480 with 1 Axes>"
      ]
     },
     "metadata": {},
     "output_type": "display_data"
    }
   ],
   "source": [
    "import matplotlib.pyplot as plt\n",
    "from sklearn.neighbors import NearestNeighbors\n",
    "\n",
    "# Step 1: Calculate the distances of the k-nearest neighbors\n",
    "neighbors = NearestNeighbors(n_neighbors=4)  # k=4 as an example\n",
    "neighbors_fit = neighbors.fit(data)\n",
    "distances, indices = neighbors_fit.kneighbors(data)\n",
    "\n",
    "# Step 2: Sort the distances for each point and plot\n",
    "distances = np.sort(distances[:, 1], axis=0)  \n",
    "plt.plot(distances)\n",
    "plt.title('k-distance Graph')\n",
    "plt.xlabel('Data Points')\n",
    "plt.ylabel('Distance to 1th nearest neighbor')\n",
    "plt.show()\n"
   ]
  },
  {
   "cell_type": "code",
   "execution_count": 219,
   "id": "a0f18b53-7b8b-4472-a577-59edcf5e4ab4",
   "metadata": {},
   "outputs": [
    {
     "data": {
      "image/png": "[encoded data removed]",
      "text/plain": [
       "<Figure size 640x480 with 1 Axes>"
      ]
     },
     "metadata": {},
     "output_type": "display_data"
    },
    {
     "name": "stdout",
     "output_type": "stream",
     "text": [
      "Optimal eps value: 0.24379408941913003\n"
     ]
    }
   ],
   "source": [
    "from kneed import KneeLocator\n",
    "neighbors = NearestNeighbors(n_neighbors=4)  \n",
    "neighbors_fit = neighbors.fit(data)\n",
    "distances, indices = neighbors_fit.kneighbors(data)\n",
    "\n",
    "# Step 2: Sort the distances for each point and get the distance of the 4th neighbor (k=4)\n",
    "distances = np.sort(distances[:, 1], axis=0)  # 4th neighbor\n",
    "plt.plot(distances)\n",
    "plt.title('k-distance Graph')\n",
    "plt.xlabel('Data Points')\n",
    "plt.ylabel('Distance to 4th nearest neighbor')\n",
    "plt.show()\n",
    "\n",
    "# Step 3: Apply Kneedle to find the \"elbow\" point\n",
    "kneedle = KneeLocator(range(1, len(distances) + 1), distances, curve='convex', direction='increasing')\n",
    "\n",
    "# The elbow point (optimal eps) can be found here\n",
    "optimal_eps = distances[kneedle.elbow]\n",
    "\n",
    "print(f\"Optimal eps value: {optimal_eps}\")\n"
   ]
  },
  {
   "cell_type": "markdown",
   "id": "b050d818-1752-4af6-a253-2cc8061c34c4",
   "metadata": {},
   "source": [
    "##### As we not getting -1, it means: Our DBSCAN configuration considers all points as part of some cluster, so no point is being treated as noise."
   ]
  },
  {
   "cell_type": "code",
   "execution_count": 220,
   "id": "28b562c3-b673-4fd3-9451-cc6ea18ea296",
   "metadata": {},
   "outputs": [
    {
     "name": "stdout",
     "output_type": "stream",
     "text": [
      "[-1  0  1  2  3  4]\n",
      "(array([-1,  0,  1,  2,  3,  4], dtype=int64), array([ 170, 2531, 1515,    5,   11,    4], dtype=int64))\n"
     ]
    }
   ],
   "source": [
    "import numpy as np\n",
    "from sklearn.cluster import DBSCAN\n",
    "dbscan=DBSCAN(eps=0.243,min_samples=8)  # Apply DBSCAN clustering\n",
    "dbscan.fit(data)\n",
    "labels=dbscan.labels_    # Get labels assigned to each data point\n",
    "print(np.unique(labels))   # This shows the distinct clusters and outliers\n",
    "\n",
    "print(np.unique(labels,return_counts=True)) # Shows how many points are in each cluster or marked as noise\n",
    "\n",
    "# -1 → Noise / Outliers\n",
    "# 0, 1, 2, ... → Cluster labels"
   ]
  },
  {
   "cell_type": "markdown",
   "id": "a777565c-60ac-4a03-98f0-ace0c2a65c3f",
   "metadata": {},
   "source": [
    "#### ✅  removing the outlier using filters"
   ]
  },
  {
   "cell_type": "code",
   "execution_count": 221,
   "id": "a09c83c8-8b16-456a-8a00-9ac0a9f08e1e",
   "metadata": {},
   "outputs": [
    {
     "data": {
      "text/plain": [
       "(4066, 9)"
      ]
     },
     "execution_count": 221,
     "metadata": {},
     "output_type": "execute_result"
    }
   ],
   "source": [
    "f=labels!=-1  # filtering rows whose label=-1 i.e. dropping them\n",
    "numeric=numeric[f]\n",
    "numeric.shape"
   ]
  },
  {
   "cell_type": "code",
   "execution_count": 222,
   "id": "7c7e914e-cf74-49cf-a28d-141429bb1996",
   "metadata": {},
   "outputs": [
    {
     "data": {
      "text/plain": [
       "(4066, 3)"
      ]
     },
     "execution_count": 222,
     "metadata": {},
     "output_type": "execute_result"
    }
   ],
   "source": [
    "categoric=categoric[f]\n",
    "categoric.shape"
   ]
  },
  {
   "cell_type": "markdown",
   "id": "5371d415-0990-459f-86fc-033013562d1d",
   "metadata": {},
   "source": [
    "####  ✅ Converting the encoded value to normal form"
   ]
  },
  {
   "cell_type": "code",
   "execution_count": 223,
   "id": "5590fcf3-082f-46fc-99fc-462b309f8dc7",
   "metadata": {},
   "outputs": [],
   "source": [
    "categoric.loc[:, \"education\"] = categoric[\"education\"].replace({1:\"Graduate\", 0: \"Not Graduate\"})\n",
    "categoric.loc[:, \"self_employed\"] = categoric[\"self_employed\"].replace({ 1:\"Yes\",0: \"No\"})\n",
    "categoric.loc[:, \"loan_status\"] = categoric[\"loan_status\"].replace({ 1:\"Yes\", 0: \"No\"})"
   ]
  },
  {
   "cell_type": "code",
   "execution_count": 224,
   "id": "94acc68b-9a17-458d-ac36-84208968df13",
   "metadata": {},
   "outputs": [
    {
     "name": "stdout",
     "output_type": "stream",
     "text": [
      "         education self_employed loan_status\n",
      "0         Graduate            No         Yes\n",
      "1     Not Graduate            No          No\n",
      "2         Graduate            No          No\n",
      "3         Graduate            No          No\n",
      "5         Graduate            No          No\n",
      "...            ...           ...         ...\n",
      "4264      Graduate           Yes          No\n",
      "4265  Not Graduate           Yes         Yes\n",
      "4266  Not Graduate            No          No\n",
      "4267  Not Graduate            No         Yes\n",
      "4268      Graduate            No         Yes\n",
      "\n",
      "[4066 rows x 3 columns]\n"
     ]
    }
   ],
   "source": [
    "print(categoric)"
   ]
  },
  {
   "cell_type": "markdown",
   "id": "6be3b561-1ce5-4184-b059-01d38f5ace61",
   "metadata": {},
   "source": [
    "#### ✅  now conactenating the  numeric and categoric column"
   ]
  },
  {
   "cell_type": "code",
   "execution_count": 225,
   "id": "edd2a7d8-29f4-4e5e-9fc3-ffdb1f7a13f2",
   "metadata": {},
   "outputs": [
    {
     "data": {
      "text/html": [
       "<div>\n",
       "<style scoped>\n",
       "    .dataframe tbody tr th:only-of-type {\n",
       "        vertical-align: middle;\n",
       "    }\n",
       "\n",
       "    .dataframe tbody tr th {\n",
       "        vertical-align: top;\n",
       "    }\n",
       "\n",
       "    .dataframe thead th {\n",
       "        text-align: right;\n",
       "    }\n",
       "</style>\n",
       "<table border=\"1\" class=\"dataframe\">\n",
       "  <thead>\n",
       "    <tr style=\"text-align: right;\">\n",
       "      <th></th>\n",
       "      <th>dependents</th>\n",
       "      <th>income_annum</th>\n",
       "      <th>loan_amount</th>\n",
       "      <th>loan_term</th>\n",
       "      <th>cibil_score</th>\n",
       "      <th>residential_assets_value</th>\n",
       "      <th>commercial_assets_value</th>\n",
       "      <th>luxury_assets_value</th>\n",
       "      <th>bank_asset_value</th>\n",
       "      <th>education</th>\n",
       "      <th>self_employed</th>\n",
       "      <th>loan_status</th>\n",
       "    </tr>\n",
       "  </thead>\n",
       "  <tbody>\n",
       "    <tr>\n",
       "      <th>0</th>\n",
       "      <td>2</td>\n",
       "      <td>9600000</td>\n",
       "      <td>29900000</td>\n",
       "      <td>12</td>\n",
       "      <td>778</td>\n",
       "      <td>2400000</td>\n",
       "      <td>17600000</td>\n",
       "      <td>22700000</td>\n",
       "      <td>8000000</td>\n",
       "      <td>Graduate</td>\n",
       "      <td>No</td>\n",
       "      <td>Yes</td>\n",
       "    </tr>\n",
       "    <tr>\n",
       "      <th>1</th>\n",
       "      <td>0</td>\n",
       "      <td>4100000</td>\n",
       "      <td>12200000</td>\n",
       "      <td>8</td>\n",
       "      <td>417</td>\n",
       "      <td>2700000</td>\n",
       "      <td>2200000</td>\n",
       "      <td>8800000</td>\n",
       "      <td>3300000</td>\n",
       "      <td>Not Graduate</td>\n",
       "      <td>No</td>\n",
       "      <td>No</td>\n",
       "    </tr>\n",
       "    <tr>\n",
       "      <th>2</th>\n",
       "      <td>3</td>\n",
       "      <td>9100000</td>\n",
       "      <td>29700000</td>\n",
       "      <td>20</td>\n",
       "      <td>506</td>\n",
       "      <td>7100000</td>\n",
       "      <td>4500000</td>\n",
       "      <td>33300000</td>\n",
       "      <td>12800000</td>\n",
       "      <td>Graduate</td>\n",
       "      <td>No</td>\n",
       "      <td>No</td>\n",
       "    </tr>\n",
       "    <tr>\n",
       "      <th>3</th>\n",
       "      <td>3</td>\n",
       "      <td>8200000</td>\n",
       "      <td>30700000</td>\n",
       "      <td>8</td>\n",
       "      <td>467</td>\n",
       "      <td>18200000</td>\n",
       "      <td>3300000</td>\n",
       "      <td>23300000</td>\n",
       "      <td>7900000</td>\n",
       "      <td>Graduate</td>\n",
       "      <td>No</td>\n",
       "      <td>No</td>\n",
       "    </tr>\n",
       "    <tr>\n",
       "      <th>5</th>\n",
       "      <td>0</td>\n",
       "      <td>4800000</td>\n",
       "      <td>13500000</td>\n",
       "      <td>10</td>\n",
       "      <td>319</td>\n",
       "      <td>6800000</td>\n",
       "      <td>8300000</td>\n",
       "      <td>13700000</td>\n",
       "      <td>5100000</td>\n",
       "      <td>Graduate</td>\n",
       "      <td>No</td>\n",
       "      <td>No</td>\n",
       "    </tr>\n",
       "    <tr>\n",
       "      <th>...</th>\n",
       "      <td>...</td>\n",
       "      <td>...</td>\n",
       "      <td>...</td>\n",
       "      <td>...</td>\n",
       "      <td>...</td>\n",
       "      <td>...</td>\n",
       "      <td>...</td>\n",
       "      <td>...</td>\n",
       "      <td>...</td>\n",
       "      <td>...</td>\n",
       "      <td>...</td>\n",
       "      <td>...</td>\n",
       "    </tr>\n",
       "    <tr>\n",
       "      <th>4264</th>\n",
       "      <td>5</td>\n",
       "      <td>1000000</td>\n",
       "      <td>2300000</td>\n",
       "      <td>12</td>\n",
       "      <td>317</td>\n",
       "      <td>2800000</td>\n",
       "      <td>500000</td>\n",
       "      <td>3300000</td>\n",
       "      <td>800000</td>\n",
       "      <td>Graduate</td>\n",
       "      <td>Yes</td>\n",
       "      <td>No</td>\n",
       "    </tr>\n",
       "    <tr>\n",
       "      <th>4265</th>\n",
       "      <td>0</td>\n",
       "      <td>3300000</td>\n",
       "      <td>11300000</td>\n",
       "      <td>20</td>\n",
       "      <td>559</td>\n",
       "      <td>4200000</td>\n",
       "      <td>2900000</td>\n",
       "      <td>11000000</td>\n",
       "      <td>1900000</td>\n",
       "      <td>Not Graduate</td>\n",
       "      <td>Yes</td>\n",
       "      <td>Yes</td>\n",
       "    </tr>\n",
       "    <tr>\n",
       "      <th>4266</th>\n",
       "      <td>2</td>\n",
       "      <td>6500000</td>\n",
       "      <td>23900000</td>\n",
       "      <td>18</td>\n",
       "      <td>457</td>\n",
       "      <td>1200000</td>\n",
       "      <td>12400000</td>\n",
       "      <td>18100000</td>\n",
       "      <td>7300000</td>\n",
       "      <td>Not Graduate</td>\n",
       "      <td>No</td>\n",
       "      <td>No</td>\n",
       "    </tr>\n",
       "    <tr>\n",
       "      <th>4267</th>\n",
       "      <td>1</td>\n",
       "      <td>4100000</td>\n",
       "      <td>12800000</td>\n",
       "      <td>8</td>\n",
       "      <td>780</td>\n",
       "      <td>8200000</td>\n",
       "      <td>700000</td>\n",
       "      <td>14100000</td>\n",
       "      <td>5800000</td>\n",
       "      <td>Not Graduate</td>\n",
       "      <td>No</td>\n",
       "      <td>Yes</td>\n",
       "    </tr>\n",
       "    <tr>\n",
       "      <th>4268</th>\n",
       "      <td>1</td>\n",
       "      <td>9200000</td>\n",
       "      <td>29700000</td>\n",
       "      <td>10</td>\n",
       "      <td>607</td>\n",
       "      <td>17800000</td>\n",
       "      <td>11800000</td>\n",
       "      <td>35700000</td>\n",
       "      <td>12000000</td>\n",
       "      <td>Graduate</td>\n",
       "      <td>No</td>\n",
       "      <td>Yes</td>\n",
       "    </tr>\n",
       "  </tbody>\n",
       "</table>\n",
       "<p>4066 rows × 12 columns</p>\n",
       "</div>"
      ],
      "text/plain": [
       "      dependents  income_annum  loan_amount  loan_term  cibil_score  \\\n",
       "0              2       9600000     29900000         12          778   \n",
       "1              0       4100000     12200000          8          417   \n",
       "2              3       9100000     29700000         20          506   \n",
       "3              3       8200000     30700000          8          467   \n",
       "5              0       4800000     13500000         10          319   \n",
       "...          ...           ...          ...        ...          ...   \n",
       "4264           5       1000000      2300000         12          317   \n",
       "4265           0       3300000     11300000         20          559   \n",
       "4266           2       6500000     23900000         18          457   \n",
       "4267           1       4100000     12800000          8          780   \n",
       "4268           1       9200000     29700000         10          607   \n",
       "\n",
       "      residential_assets_value  commercial_assets_value  luxury_assets_value  \\\n",
       "0                      2400000                 17600000             22700000   \n",
       "1                      2700000                  2200000              8800000   \n",
       "2                      7100000                  4500000             33300000   \n",
       "3                     18200000                  3300000             23300000   \n",
       "5                      6800000                  8300000             13700000   \n",
       "...                        ...                      ...                  ...   \n",
       "4264                   2800000                   500000              3300000   \n",
       "4265                   4200000                  2900000             11000000   \n",
       "4266                   1200000                 12400000             18100000   \n",
       "4267                   8200000                   700000             14100000   \n",
       "4268                  17800000                 11800000             35700000   \n",
       "\n",
       "      bank_asset_value     education self_employed loan_status  \n",
       "0              8000000      Graduate            No         Yes  \n",
       "1              3300000  Not Graduate            No          No  \n",
       "2             12800000      Graduate            No          No  \n",
       "3              7900000      Graduate            No          No  \n",
       "5              5100000      Graduate            No          No  \n",
       "...                ...           ...           ...         ...  \n",
       "4264            800000      Graduate           Yes          No  \n",
       "4265           1900000  Not Graduate           Yes         Yes  \n",
       "4266           7300000  Not Graduate            No          No  \n",
       "4267           5800000  Not Graduate            No         Yes  \n",
       "4268          12000000      Graduate            No         Yes  \n",
       "\n",
       "[4066 rows x 12 columns]"
      ]
     },
     "execution_count": 225,
     "metadata": {},
     "output_type": "execute_result"
    }
   ],
   "source": [
    "df1=pd.concat((numeric,categoric),axis=1)\n",
    "df1"
   ]
  },
  {
   "cell_type": "markdown",
   "id": "f1f51d97-e80c-43c7-ade6-ccf1cce55a83",
   "metadata": {},
   "source": [
    "#### ✅ Encoding\n",
    "##### Now encoding the categorical columns to numerical form using the LabelEncoder method"
   ]
  },
  {
   "cell_type": "code",
   "execution_count": 226,
   "id": "c1b2a389-bb96-4e09-8f28-e84afa64b676",
   "metadata": {},
   "outputs": [],
   "source": [
    "from sklearn.preprocessing import LabelEncoder\n",
    "e=LabelEncoder()\n",
    "df1[\"education\"]=e.fit_transform(df1[\"education\"])\n",
    "\n",
    "e1=LabelEncoder()\n",
    "df1[\"self_employed\"]=e1.fit_transform(df1[\"self_employed\"])\n",
    "\n",
    "e2=LabelEncoder()\n",
    "df1[\"loan_status\"]=e2.fit_transform(df1[\"loan_status\"])"
   ]
  },
  {
   "cell_type": "code",
   "execution_count": 227,
   "id": "b8274979-d5d0-4531-9e0c-722c6d1125ca",
   "metadata": {},
   "outputs": [
    {
     "name": "stdout",
     "output_type": "stream",
     "text": [
      "      dependents  income_annum  loan_amount  loan_term  cibil_score  \\\n",
      "0              2       9600000     29900000         12          778   \n",
      "1              0       4100000     12200000          8          417   \n",
      "2              3       9100000     29700000         20          506   \n",
      "3              3       8200000     30700000          8          467   \n",
      "5              0       4800000     13500000         10          319   \n",
      "...          ...           ...          ...        ...          ...   \n",
      "4264           5       1000000      2300000         12          317   \n",
      "4265           0       3300000     11300000         20          559   \n",
      "4266           2       6500000     23900000         18          457   \n",
      "4267           1       4100000     12800000          8          780   \n",
      "4268           1       9200000     29700000         10          607   \n",
      "\n",
      "      residential_assets_value  commercial_assets_value  luxury_assets_value  \\\n",
      "0                      2400000                 17600000             22700000   \n",
      "1                      2700000                  2200000              8800000   \n",
      "2                      7100000                  4500000             33300000   \n",
      "3                     18200000                  3300000             23300000   \n",
      "5                      6800000                  8300000             13700000   \n",
      "...                        ...                      ...                  ...   \n",
      "4264                   2800000                   500000              3300000   \n",
      "4265                   4200000                  2900000             11000000   \n",
      "4266                   1200000                 12400000             18100000   \n",
      "4267                   8200000                   700000             14100000   \n",
      "4268                  17800000                 11800000             35700000   \n",
      "\n",
      "      bank_asset_value  education  self_employed  loan_status  \n",
      "0              8000000          0              0            1  \n",
      "1              3300000          1              0            0  \n",
      "2             12800000          0              0            0  \n",
      "3              7900000          0              0            0  \n",
      "5              5100000          0              0            0  \n",
      "...                ...        ...            ...          ...  \n",
      "4264            800000          0              1            0  \n",
      "4265           1900000          1              1            1  \n",
      "4266           7300000          1              0            0  \n",
      "4267           5800000          1              0            1  \n",
      "4268          12000000          0              0            1  \n",
      "\n",
      "[4066 rows x 12 columns]\n"
     ]
    }
   ],
   "source": [
    "print(df1)"
   ]
  },
  {
   "cell_type": "markdown",
   "id": "60632d81-7f18-4738-a333-ba09117ffdc2",
   "metadata": {},
   "source": [
    "#### ✅ SPLITTING DATA INTO INDEPENDENT AND TARGET VARIABLE"
   ]
  },
  {
   "cell_type": "code",
   "execution_count": 228,
   "id": "4cc48552-fa01-43b9-bb21-e3766abe952d",
   "metadata": {},
   "outputs": [],
   "source": [
    "x=df1.iloc[:,:-1]  # INDEPENDENT VARIABLE\n",
    "y=df1.iloc[:,-1]  # TARGET VARIABLE"
   ]
  },
  {
   "cell_type": "code",
   "execution_count": 229,
   "id": "e812d52b-ecb7-4dcf-b042-884c817d3f33",
   "metadata": {},
   "outputs": [
    {
     "data": {
      "text/html": [
       "<div>\n",
       "<style scoped>\n",
       "    .dataframe tbody tr th:only-of-type {\n",
       "        vertical-align: middle;\n",
       "    }\n",
       "\n",
       "    .dataframe tbody tr th {\n",
       "        vertical-align: top;\n",
       "    }\n",
       "\n",
       "    .dataframe thead th {\n",
       "        text-align: right;\n",
       "    }\n",
       "</style>\n",
       "<table border=\"1\" class=\"dataframe\">\n",
       "  <thead>\n",
       "    <tr style=\"text-align: right;\">\n",
       "      <th></th>\n",
       "      <th>dependents</th>\n",
       "      <th>income_annum</th>\n",
       "      <th>loan_amount</th>\n",
       "      <th>loan_term</th>\n",
       "      <th>cibil_score</th>\n",
       "      <th>residential_assets_value</th>\n",
       "      <th>commercial_assets_value</th>\n",
       "      <th>luxury_assets_value</th>\n",
       "      <th>bank_asset_value</th>\n",
       "      <th>education</th>\n",
       "      <th>self_employed</th>\n",
       "    </tr>\n",
       "  </thead>\n",
       "  <tbody>\n",
       "    <tr>\n",
       "      <th>0</th>\n",
       "      <td>2</td>\n",
       "      <td>9600000</td>\n",
       "      <td>29900000</td>\n",
       "      <td>12</td>\n",
       "      <td>778</td>\n",
       "      <td>2400000</td>\n",
       "      <td>17600000</td>\n",
       "      <td>22700000</td>\n",
       "      <td>8000000</td>\n",
       "      <td>0</td>\n",
       "      <td>0</td>\n",
       "    </tr>\n",
       "    <tr>\n",
       "      <th>1</th>\n",
       "      <td>0</td>\n",
       "      <td>4100000</td>\n",
       "      <td>12200000</td>\n",
       "      <td>8</td>\n",
       "      <td>417</td>\n",
       "      <td>2700000</td>\n",
       "      <td>2200000</td>\n",
       "      <td>8800000</td>\n",
       "      <td>3300000</td>\n",
       "      <td>1</td>\n",
       "      <td>0</td>\n",
       "    </tr>\n",
       "    <tr>\n",
       "      <th>2</th>\n",
       "      <td>3</td>\n",
       "      <td>9100000</td>\n",
       "      <td>29700000</td>\n",
       "      <td>20</td>\n",
       "      <td>506</td>\n",
       "      <td>7100000</td>\n",
       "      <td>4500000</td>\n",
       "      <td>33300000</td>\n",
       "      <td>12800000</td>\n",
       "      <td>0</td>\n",
       "      <td>0</td>\n",
       "    </tr>\n",
       "    <tr>\n",
       "      <th>3</th>\n",
       "      <td>3</td>\n",
       "      <td>8200000</td>\n",
       "      <td>30700000</td>\n",
       "      <td>8</td>\n",
       "      <td>467</td>\n",
       "      <td>18200000</td>\n",
       "      <td>3300000</td>\n",
       "      <td>23300000</td>\n",
       "      <td>7900000</td>\n",
       "      <td>0</td>\n",
       "      <td>0</td>\n",
       "    </tr>\n",
       "    <tr>\n",
       "      <th>5</th>\n",
       "      <td>0</td>\n",
       "      <td>4800000</td>\n",
       "      <td>13500000</td>\n",
       "      <td>10</td>\n",
       "      <td>319</td>\n",
       "      <td>6800000</td>\n",
       "      <td>8300000</td>\n",
       "      <td>13700000</td>\n",
       "      <td>5100000</td>\n",
       "      <td>0</td>\n",
       "      <td>0</td>\n",
       "    </tr>\n",
       "    <tr>\n",
       "      <th>...</th>\n",
       "      <td>...</td>\n",
       "      <td>...</td>\n",
       "      <td>...</td>\n",
       "      <td>...</td>\n",
       "      <td>...</td>\n",
       "      <td>...</td>\n",
       "      <td>...</td>\n",
       "      <td>...</td>\n",
       "      <td>...</td>\n",
       "      <td>...</td>\n",
       "      <td>...</td>\n",
       "    </tr>\n",
       "    <tr>\n",
       "      <th>4264</th>\n",
       "      <td>5</td>\n",
       "      <td>1000000</td>\n",
       "      <td>2300000</td>\n",
       "      <td>12</td>\n",
       "      <td>317</td>\n",
       "      <td>2800000</td>\n",
       "      <td>500000</td>\n",
       "      <td>3300000</td>\n",
       "      <td>800000</td>\n",
       "      <td>0</td>\n",
       "      <td>1</td>\n",
       "    </tr>\n",
       "    <tr>\n",
       "      <th>4265</th>\n",
       "      <td>0</td>\n",
       "      <td>3300000</td>\n",
       "      <td>11300000</td>\n",
       "      <td>20</td>\n",
       "      <td>559</td>\n",
       "      <td>4200000</td>\n",
       "      <td>2900000</td>\n",
       "      <td>11000000</td>\n",
       "      <td>1900000</td>\n",
       "      <td>1</td>\n",
       "      <td>1</td>\n",
       "    </tr>\n",
       "    <tr>\n",
       "      <th>4266</th>\n",
       "      <td>2</td>\n",
       "      <td>6500000</td>\n",
       "      <td>23900000</td>\n",
       "      <td>18</td>\n",
       "      <td>457</td>\n",
       "      <td>1200000</td>\n",
       "      <td>12400000</td>\n",
       "      <td>18100000</td>\n",
       "      <td>7300000</td>\n",
       "      <td>1</td>\n",
       "      <td>0</td>\n",
       "    </tr>\n",
       "    <tr>\n",
       "      <th>4267</th>\n",
       "      <td>1</td>\n",
       "      <td>4100000</td>\n",
       "      <td>12800000</td>\n",
       "      <td>8</td>\n",
       "      <td>780</td>\n",
       "      <td>8200000</td>\n",
       "      <td>700000</td>\n",
       "      <td>14100000</td>\n",
       "      <td>5800000</td>\n",
       "      <td>1</td>\n",
       "      <td>0</td>\n",
       "    </tr>\n",
       "    <tr>\n",
       "      <th>4268</th>\n",
       "      <td>1</td>\n",
       "      <td>9200000</td>\n",
       "      <td>29700000</td>\n",
       "      <td>10</td>\n",
       "      <td>607</td>\n",
       "      <td>17800000</td>\n",
       "      <td>11800000</td>\n",
       "      <td>35700000</td>\n",
       "      <td>12000000</td>\n",
       "      <td>0</td>\n",
       "      <td>0</td>\n",
       "    </tr>\n",
       "  </tbody>\n",
       "</table>\n",
       "<p>4066 rows × 11 columns</p>\n",
       "</div>"
      ],
      "text/plain": [
       "      dependents  income_annum  loan_amount  loan_term  cibil_score  \\\n",
       "0              2       9600000     29900000         12          778   \n",
       "1              0       4100000     12200000          8          417   \n",
       "2              3       9100000     29700000         20          506   \n",
       "3              3       8200000     30700000          8          467   \n",
       "5              0       4800000     13500000         10          319   \n",
       "...          ...           ...          ...        ...          ...   \n",
       "4264           5       1000000      2300000         12          317   \n",
       "4265           0       3300000     11300000         20          559   \n",
       "4266           2       6500000     23900000         18          457   \n",
       "4267           1       4100000     12800000          8          780   \n",
       "4268           1       9200000     29700000         10          607   \n",
       "\n",
       "      residential_assets_value  commercial_assets_value  luxury_assets_value  \\\n",
       "0                      2400000                 17600000             22700000   \n",
       "1                      2700000                  2200000              8800000   \n",
       "2                      7100000                  4500000             33300000   \n",
       "3                     18200000                  3300000             23300000   \n",
       "5                      6800000                  8300000             13700000   \n",
       "...                        ...                      ...                  ...   \n",
       "4264                   2800000                   500000              3300000   \n",
       "4265                   4200000                  2900000             11000000   \n",
       "4266                   1200000                 12400000             18100000   \n",
       "4267                   8200000                   700000             14100000   \n",
       "4268                  17800000                 11800000             35700000   \n",
       "\n",
       "      bank_asset_value  education  self_employed  \n",
       "0              8000000          0              0  \n",
       "1              3300000          1              0  \n",
       "2             12800000          0              0  \n",
       "3              7900000          0              0  \n",
       "5              5100000          0              0  \n",
       "...                ...        ...            ...  \n",
       "4264            800000          0              1  \n",
       "4265           1900000          1              1  \n",
       "4266           7300000          1              0  \n",
       "4267           5800000          1              0  \n",
       "4268          12000000          0              0  \n",
       "\n",
       "[4066 rows x 11 columns]"
      ]
     },
     "execution_count": 229,
     "metadata": {},
     "output_type": "execute_result"
    }
   ],
   "source": [
    "x"
   ]
  },
  {
   "cell_type": "code",
   "execution_count": 230,
   "id": "3af671f6-94f6-45c5-940d-ba84ae829862",
   "metadata": {},
   "outputs": [
    {
     "data": {
      "text/plain": [
       "0       1\n",
       "1       0\n",
       "2       0\n",
       "3       0\n",
       "5       0\n",
       "       ..\n",
       "4264    0\n",
       "4265    1\n",
       "4266    0\n",
       "4267    1\n",
       "4268    1\n",
       "Name: loan_status, Length: 4066, dtype: int32"
      ]
     },
     "execution_count": 230,
     "metadata": {},
     "output_type": "execute_result"
    }
   ],
   "source": [
    "y"
   ]
  },
  {
   "cell_type": "markdown",
   "id": "d6854aaf-5a04-43e5-96c4-acde6b11588e",
   "metadata": {},
   "source": [
    "#### ✅ Scaling -->\n",
    "#### ✅ Scaling so that whole data should be on same scale"
   ]
  },
  {
   "cell_type": "code",
   "execution_count": 231,
   "id": "fbb4619a-5ad7-401c-a91e-44b23a6ba545",
   "metadata": {},
   "outputs": [
    {
     "name": "stdout",
     "output_type": "stream",
     "text": [
      "<class 'pandas.core.frame.DataFrame'>\n",
      "Index: 4066 entries, 0 to 4268\n",
      "Data columns (total 12 columns):\n",
      " #   Column                    Non-Null Count  Dtype\n",
      "---  ------                    --------------  -----\n",
      " 0   dependents                4066 non-null   int64\n",
      " 1   income_annum              4066 non-null   int64\n",
      " 2   loan_amount               4066 non-null   int64\n",
      " 3   loan_term                 4066 non-null   int64\n",
      " 4   cibil_score               4066 non-null   int64\n",
      " 5   residential_assets_value  4066 non-null   int64\n",
      " 6   commercial_assets_value   4066 non-null   int64\n",
      " 7   luxury_assets_value       4066 non-null   int64\n",
      " 8   bank_asset_value          4066 non-null   int64\n",
      " 9   education                 4066 non-null   int32\n",
      " 10  self_employed             4066 non-null   int32\n",
      " 11  loan_status               4066 non-null   int32\n",
      "dtypes: int32(3), int64(9)\n",
      "memory usage: 365.3 KB\n"
     ]
    }
   ],
   "source": [
    "df1.info()"
   ]
  },
  {
   "cell_type": "code",
   "execution_count": 232,
   "id": "32f3a929-1d3e-465b-9192-0e538f08c322",
   "metadata": {},
   "outputs": [
    {
     "data": {
      "text/plain": [
       "array([[-0.28911758,  1.73487674,  1.77846843, ...,  1.01895862,\n",
       "        -1.000492  , -0.89393235],\n",
       "       [-1.47474753, -0.28659251, -0.26879995, ..., -0.47585611,\n",
       "         0.99950824, -0.89393235],\n",
       "       [ 0.30369739,  1.55110681,  1.75533546, ...,  2.54557791,\n",
       "        -1.000492  , -0.89393235],\n",
       "       ...,\n",
       "       [-0.28911758,  0.59550316,  1.08447915, ...,  0.79632664,\n",
       "         0.99950824, -0.89393235],\n",
       "       [-0.88193255, -0.28659251, -0.19940102, ...,  0.31925811,\n",
       "         0.99950824, -0.89393235],\n",
       "       [-0.88193255,  1.58786079,  1.75533546, ...,  2.29114136,\n",
       "        -1.000492  , -0.89393235]])"
      ]
     },
     "execution_count": 232,
     "metadata": {},
     "output_type": "execute_result"
    }
   ],
   "source": [
    "from sklearn.preprocessing import StandardScaler\n",
    "scaler=StandardScaler()\n",
    "x=scaler.fit_transform(x)\n",
    "x"
   ]
  },
  {
   "cell_type": "markdown",
   "id": "10f8de56-e54f-478f-baa3-93da89cb0251",
   "metadata": {},
   "source": [
    "#### ✅ Splitting Dataset into training and testing data(last step of preprocessing)"
   ]
  },
  {
   "cell_type": "code",
   "execution_count": 235,
   "id": "779175dc-89e3-42f6-bd45-039d75fff4f2",
   "metadata": {},
   "outputs": [],
   "source": [
    "from sklearn.model_selection import train_test_split\n",
    "x_train,x_test,y_train,y_test=train_test_split(x,y,test_size=0.2,random_state=1)"
   ]
  },
  {
   "cell_type": "code",
   "execution_count": 236,
   "id": "11a49685-fd03-43c7-bfaa-c451ba66c616",
   "metadata": {},
   "outputs": [
    {
     "data": {
      "text/plain": [
       "((3252, 11), (814, 11))"
      ]
     },
     "execution_count": 236,
     "metadata": {},
     "output_type": "execute_result"
    }
   ],
   "source": [
    "x_train.shape,x_test.shape"
   ]
  },
  {
   "cell_type": "markdown",
   "id": "30e1fd47-fe4b-4cdb-a767-23394b79c20a",
   "metadata": {},
   "source": [
    "#### ✅ STEP 4 :  Choosing the best model\n",
    "#### 1. Logistic Regression"
   ]
  },
  {
   "cell_type": "code",
   "execution_count": 237,
   "id": "e414a97b-8347-48ee-a6aa-a055b4fe8ca9",
   "metadata": {},
   "outputs": [
    {
     "name": "stdout",
     "output_type": "stream",
     "text": [
      "[1 1 0 1 1 0 1 1 0 0 1 0 1 1 1 1 1 1 0 0 0 1 1 1 1 1 1 1 1 0 1 1 0 1 1 1 1\n",
      " 0 0 1 1 1 0 0 1 1 0 1 0 1 1 1 0 1 0 1 1 1 1 0 0 0 1 1 1 0 0 1 1 0 1 1 1 1\n",
      " 0 1 1 0 1 1 1 1 1 1 1 1 1 0 0 0 0 1 1 0 1 0 1 1 0 1 0 1 1 0 1 1 1 0 1 0 1\n",
      " 1 1 1 0 1 1 0 1 0 1 0 1 1 1 1 1 0 1 1 1 1 1 0 1 1 1 1 1 1 1 1 1 0 1 1 0 1\n",
      " 1 0 0 1 1 1 0 1 1 0 1 1 1 0 1 1 1 1 0 0 1 0 1 1 1 0 1 1 1 1 1 1 0 0 1 1 0\n",
      " 1 1 0 0 1 1 1 1 1 1 1 1 1 1 1 0 1 0 1 0 1 0 0 1 1 1 0 0 0 1 0 0 1 1 1 1 0\n",
      " 1 1 1 1 1 0 1 0 1 0 1 1 1 1 1 1 1 0 1 1 1 1 1 1 1 0 0 1 0 1 1 1 0 1 1 1 0\n",
      " 0 1 1 1 0 1 0 0 0 0 1 0 1 0 1 0 1 1 1 1 1 0 1 0 1 1 0 1 1 0 0 1 0 1 1 1 0\n",
      " 0 1 0 1 0 1 1 0 0 1 1 0 1 1 1 0 1 0 0 1 1 1 1 0 1 1 1 1 0 1 1 0 0 1 1 1 1\n",
      " 0 0 0 1 0 1 0 1 0 1 1 1 1 0 0 1 1 1 1 0 0 0 0 1 1 1 0 0 1 0 1 0 1 1 1 1 0\n",
      " 1 0 0 0 1 1 0 1 0 1 1 1 0 0 0 0 0 0 1 0 0 0 1 1 0 1 0 0 1 1 0 0 1 1 1 0 0\n",
      " 1 0 1 1 0 1 1 1 1 1 1 0 1 1 1 1 1 1 0 1 0 0 1 0 1 0 1 1 0 1 1 0 0 1 1 0 1\n",
      " 0 1 1 0 1 1 1 0 1 1 0 1 0 1 0 1 1 0 1 0 1 0 0 1 0 1 1 1 1 1 0 0 0 1 0 0 0\n",
      " 1 0 1 0 0 1 0 1 1 0 1 1 1 1 1 1 0 0 0 0 1 0 1 0 0 0 1 1 0 1 0 1 1 1 0 0 1\n",
      " 1 1 1 0 1 1 1 0 1 0 1 0 0 1 0 1 1 1 1 1 1 1 1 1 1 1 1 1 0 1 1 1 1 1 1 0 1\n",
      " 1 1 0 1 1 1 1 0 1 0 1 1 0 1 0 0 1 1 1 1 1 1 1 0 0 0 1 0 1 1 1 1 0 0 1 1 1\n",
      " 1 1 1 0 1 1 0 1 0 1 1 1 0 1 1 0 0 1 0 1 1 0 1 1 0 1 1 0 1 1 0 1 1 1 0 0 0\n",
      " 0 1 0 1 1 0 1 1 1 1 1 1 0 0 1 1 1 1 1 0 1 0 0 0 1 0 1 1 0 1 1 1 1 1 1 1 0\n",
      " 1 1 0 0 1 1 0 1 1 1 1 1 1 1 0 0 0 1 0 1 1 1 1 1 1 1 0 1 0 1 0 1 1 1 0 0 0\n",
      " 0 0 1 1 0 1 0 1 1 0 1 0 0 1 0 0 0 1 1 1 1 1 1 0 0 0 1 0 0 0 0 0 1 1 1 1 1\n",
      " 0 0 1 0 0 1 0 1 1 0 0 1 1 1 1 0 1 0 1 0 1 0 1 1 1 0 0 1 1 1 1 1 1 0 1 1 1\n",
      " 0 1 1 0 0 0 1 1 1 0 0 1 1 0 0 1 1 0 0 0 1 0 0 0 1 0 1 0 0 1 1 0 1 0 0 1 1]\n"
     ]
    }
   ],
   "source": [
    "from sklearn.linear_model import LogisticRegression\n",
    "model1=LogisticRegression()\n",
    "model1.fit(x_train,y_train)\n",
    "y_pred=model1.predict(x_test)\n",
    "print(y_pred)"
   ]
  },
  {
   "cell_type": "code",
   "execution_count": 238,
   "id": "2da58aee-08f9-4282-8245-3f2ee5c55d48",
   "metadata": {},
   "outputs": [
    {
     "name": "stdout",
     "output_type": "stream",
     "text": [
      "Accuracy score for logistic regression model is : 0.9275184275184275\n",
      "Precision score for logistic regression model is : 0.9471624266144814\n",
      "Recall score for logistic regression model is : 0.937984496124031\n",
      "Confusion Matrix for logistic regression model is :\n",
      " [[271  27]\n",
      " [ 32 484]]\n"
     ]
    }
   ],
   "source": [
    "from sklearn.metrics import accuracy_score, precision_score,recall_score,f1_score, confusion_matrix\n",
    "print(\"Accuracy score for logistic regression model is :\",accuracy_score(y_test,y_pred))\n",
    "print(\"Precision score for logistic regression model is :\",precision_score(y_test,y_pred))\n",
    "print(\"Recall score for logistic regression model is :\",recall_score(y_test,y_pred))\n",
    "print(\"Confusion Matrix for logistic regression model is :\\n\",confusion_matrix(y_test,y_pred))"
   ]
  },
  {
   "cell_type": "markdown",
   "id": "5236d56d-d003-478a-b291-cb2d375a159f",
   "metadata": {},
   "source": [
    "#### 2. Decision Tree"
   ]
  },
  {
   "cell_type": "code",
   "execution_count": 239,
   "id": "73bd30b0-68d3-404e-a515-36da8ae1fe8e",
   "metadata": {},
   "outputs": [],
   "source": [
    "from sklearn.tree import DecisionTreeClassifier    #72 acc\n",
    "tree=DecisionTreeClassifier(max_depth=7,min_samples_split=3)\n",
    "tree.fit(x_train,y_train)\n",
    "y_pred=tree.predict(x_test)"
   ]
  },
  {
   "cell_type": "code",
   "execution_count": 240,
   "id": "feb2bbef-65c3-4c7d-a0a2-fd8add4322f4",
   "metadata": {},
   "outputs": [
    {
     "name": "stdout",
     "output_type": "stream",
     "text": [
      "Accuracy score for decision tree model is : 0.984029484029484\n",
      "Precision score for decision tree model is : 0.979047619047619\n",
      "Recall score for  decision tree model is : 0.9961240310077519\n",
      "Confusion Matrix for decision tree  model is :\n",
      " [[287  11]\n",
      " [  2 514]]\n"
     ]
    }
   ],
   "source": [
    "print(\"Accuracy score for decision tree model is :\",accuracy_score(y_test,y_pred))\n",
    "print(\"Precision score for decision tree model is :\",precision_score(y_test,y_pred))\n",
    "print(\"Recall score for  decision tree model is :\",recall_score(y_test,y_pred))\n",
    "print(\"Confusion Matrix for decision tree  model is :\\n\",confusion_matrix(y_test,y_pred))"
   ]
  },
  {
   "cell_type": "markdown",
   "id": "1cc73732-37d1-4e3c-8a5f-36442384d5e9",
   "metadata": {},
   "source": [
    "#### 3. Random Forest Regressor"
   ]
  },
  {
   "cell_type": "code",
   "execution_count": 241,
   "id": "0a21140e-3c93-4632-b505-90b7cbea8819",
   "metadata": {},
   "outputs": [],
   "source": [
    "from sklearn.ensemble import RandomForestClassifier\n",
    "c=RandomForestClassifier(n_estimators=200,max_depth=10,min_samples_split=5)\n",
    "c.fit(x_train,y_train)\n",
    "y_pred=c.predict(x_test)"
   ]
  },
  {
   "cell_type": "code",
   "execution_count": 242,
   "id": "abe7d2b0-5a87-4814-9af8-79c04dfeec48",
   "metadata": {},
   "outputs": [
    {
     "name": "stdout",
     "output_type": "stream",
     "text": [
      "Accuracy score for Random Forest Classifier model is : 0.9877149877149877\n",
      "Precision score for Random Forest Classifier model is : 0.9922178988326849\n",
      "Recall score for  Random Forest Classifier model is : 0.9883720930232558\n",
      "Confusion Matrix for Random Forest Classifier  model is :\n",
      " [[294   4]\n",
      " [  6 510]]\n"
     ]
    }
   ],
   "source": [
    "print(\"Accuracy score for Random Forest Classifier model is :\",accuracy_score(y_test,y_pred))\n",
    "print(\"Precision score for Random Forest Classifier model is :\",precision_score(y_test,y_pred))\n",
    "print(\"Recall score for  Random Forest Classifier model is :\",recall_score(y_test,y_pred))\n",
    "print(\"Confusion Matrix for Random Forest Classifier  model is :\\n\",confusion_matrix(y_test,y_pred))"
   ]
  },
  {
   "cell_type": "markdown",
   "id": "c53a2cc6-d0eb-413c-935f-67ab8e657833",
   "metadata": {},
   "source": [
    "#### 4. KNN (K-NEAREST NEIGHBORS CLASSIFIER)"
   ]
  },
  {
   "cell_type": "code",
   "execution_count": 243,
   "id": "bd5b52e4-fbbc-4af6-a2fa-c4bf627da375",
   "metadata": {},
   "outputs": [],
   "source": [
    "from sklearn.neighbors import KNeighborsClassifier\n",
    "knn=KNeighborsClassifier(n_neighbors=9)\n",
    "knn.fit(x_train,y_train)\n",
    "y_pred=knn.predict(x_test)"
   ]
  },
  {
   "cell_type": "code",
   "execution_count": 244,
   "id": "ed5e357b-d6d2-47a5-b6db-d55c96f70767",
   "metadata": {},
   "outputs": [
    {
     "name": "stdout",
     "output_type": "stream",
     "text": [
      "Accuracy score for KNN model is : 0.9066339066339066\n",
      "Precision score for KNN model is : 0.9382470119521913\n",
      "Recall score for KNN model is : 0.9127906976744186\n",
      "Confusion Matrix for KNN model is :\n",
      " [[267  31]\n",
      " [ 45 471]]\n"
     ]
    }
   ],
   "source": [
    "\n",
    "print(\"Accuracy score for KNN model is :\", accuracy_score(y_test, y_pred))\n",
    "print(\"Precision score for KNN model is :\", precision_score(y_test, y_pred))\n",
    "print(\"Recall score for KNN model is :\", recall_score(y_test, y_pred))\n",
    "print(\"Confusion Matrix for KNN model is :\\n\", confusion_matrix(y_test, y_pred))\n"
   ]
  },
  {
   "cell_type": "markdown",
   "id": "49082762-a795-4b58-93fe-4c0d2617b186",
   "metadata": {},
   "source": [
    "#### 5. SVC (SUPPORT VECTOR CLASSIFIER)"
   ]
  },
  {
   "cell_type": "code",
   "execution_count": 247,
   "id": "e4797627-415a-465f-b016-90af4b9a0341",
   "metadata": {},
   "outputs": [],
   "source": [
    "from sklearn.svm import SVC\n",
    "s=SVC(kernel=\"rbf\",C=0.3)\n",
    "s.fit(x_train,y_train)\n",
    "y_pred=s.predict(x_test)"
   ]
  },
  {
   "cell_type": "code",
   "execution_count": 249,
   "id": "5c44c9a1-8685-454d-b333-c3e2d81cd867",
   "metadata": {},
   "outputs": [
    {
     "name": "stdout",
     "output_type": "stream",
     "text": [
      "Accuracy score for SVC model is : 0.9484029484029484\n",
      "Precision score for SVC model is : 0.9759036144578314\n",
      "Recall score for SVC model is : 0.9418604651162791\n",
      "Confusion Matrix for SVC model is :\n",
      " [[286  12]\n",
      " [ 30 486]]\n"
     ]
    }
   ],
   "source": [
    "# Assuming svc_pred = svc_model.predict(X_test)\n",
    "\n",
    "print(\"Accuracy score for SVC model is :\", accuracy_score(y_test, y_pred))\n",
    "print(\"Precision score for SVC model is :\", precision_score(y_test, y_pred))\n",
    "print(\"Recall score for SVC model is :\", recall_score(y_test, y_pred))\n",
    "print(\"Confusion Matrix for SVC model is :\\n\", confusion_matrix(y_test,y_pred))\n"
   ]
  },
  {
   "cell_type": "markdown",
   "id": "f5ea02fe-c260-4f41-99a4-99963266e127",
   "metadata": {},
   "source": [
    "##### As random forest is giving better result out of all model, so we will select the RANDOM FOREST CLASSIFIER for loan approval system"
   ]
  },
  {
   "cell_type": "markdown",
   "id": "ec76998b-53e2-457b-b057-ad1754bfaa04",
   "metadata": {},
   "source": [
    "#### ✅ STEP 5: MAKING PREDICTION"
   ]
  },
  {
   "cell_type": "code",
   "execution_count": 264,
   "id": "9f6dd043-5305-42a1-b108-18616225ea6a",
   "metadata": {},
   "outputs": [],
   "source": [
    "def predict_from_user_input(model):\n",
    "    print(\"<----------- Enter the following details ------------->\")\n",
    "    \n",
    "    dependents = int(input(\"Enter number of dependents: \"))\n",
    "    income_annum = int(input(\"Enter annual income: \"))\n",
    "    loan_amount = int(input(\"Enter loan amount: \"))\n",
    "    loan_term = int(input(\"Enter loan term (in months): \"))\n",
    "    cibil_score = int(input(\"Enter CIBIL score: \"))\n",
    "    residential_assets_value = int(input(\"Enter residential assets value: \"))\n",
    "    commercial_assets_value = int(input(\"Enter commercial assets value: \"))\n",
    "    luxury_assets_value = int(input(\"Enter luxury assets value: \"))\n",
    "    bank_asset_value = int(input(\"Enter bank asset value: \"))\n",
    "    education = input(\"Enter education (Graduate, Not Graduate): \")\n",
    "    self_employed = input(\"Enter self_employed status (Yes, No): \")\n",
    "\n",
    "    # Encoding 'education' and 'self_employed'\n",
    "    education = e.fit_transform([education])[0]\n",
    "    self_employed = e1.fit_transform([self_employed])[0]\n",
    "\n",
    "    # Step 3: Create DataFrame\n",
    "    input_data = pd.DataFrame([[dependents, income_annum, loan_amount, loan_term, cibil_score, \n",
    "                               residential_assets_value, commercial_assets_value, luxury_assets_value, \n",
    "                               bank_asset_value, education, self_employed]],\n",
    "                               columns=[\"dependents\", \"income_annum\", \"loan_amount\", \"loan_term\", \n",
    "                                        \"cibil_score\", \"residential_assets_value\", \"commercial_assets_value\", \n",
    "                                        \"luxury_assets_value\", \"bank_asset_value\", \"education\", \"self_employed\"])\n",
    "    #print(\"\\nInput Data:\")\n",
    "    #print(input_data)\n",
    "\n",
    "    # Step 4: Make prediction\n",
    "    prediction = model.predict(input_data)[0]\n",
    "\n",
    "    # Step 5: Display result\n",
    "    print(\"<--------------------------------Loading THe Status------------------------------------------->\")\n",
    "    if prediction == 1:\n",
    "        print(\"Loan Status: Approved!!\")\n",
    "    else:\n",
    "        print(\"Loan Status: Rejected\")\n"
   ]
  },
  {
   "cell_type": "code",
   "execution_count": 265,
   "id": "c19022ba-2ab7-432c-816f-5031503f27e3",
   "metadata": {},
   "outputs": [
    {
     "name": "stdout",
     "output_type": "stream",
     "text": [
      "<----------- Enter the following details ------------->\n"
     ]
    },
    {
     "name": "stdin",
     "output_type": "stream",
     "text": [
      "Enter number of dependents:  5\n",
      "Enter annual income:  1030000\n",
      "Enter loan amount:  552771\n",
      "Enter loan term (in months):  14\n",
      "Enter CIBIL score:  231\n",
      "Enter residential assets value:  2442\n",
      "Enter commercial assets value:  26768180\n",
      "Enter luxury assets value:  1768326931\n",
      "Enter bank asset value:  671537\n",
      "Enter education (Graduate, Not Graduate):  Graduate\n",
      "Enter self_employed status (Yes, No):  No\n"
     ]
    },
    {
     "name": "stdout",
     "output_type": "stream",
     "text": [
      "<--------------------------------Loading THe Status------------------------------------------->\n",
      "Loan Status: Approved!!\n"
     ]
    },
    {
     "name": "stderr",
     "output_type": "stream",
     "text": [
      "C:\\Users\\KOMAL\\anaconda3\\Lib\\site-packages\\sklearn\\base.py:486: UserWarning: X has feature names, but RandomForestClassifier was fitted without feature names\n",
      "  warnings.warn(\n"
     ]
    }
   ],
   "source": [
    "predict_from_user_input(c)"
   ]
  },
  {
   "cell_type": "code",
   "execution_count": null,
   "id": "e59329b2-746f-403b-bbc7-bab300b4c24b",
   "metadata": {},
   "outputs": [],
   "source": []
  }
 ],
 "metadata": {
  "kernelspec": {
   "display_name": "Python 3 (ipykernel)",
   "language": "python",
   "name": "python3"
  },
  "language_info": {
   "codemirror_mode": {
    "name": "ipython",
    "version": 3
   },
   "file_extension": ".py",
   "mimetype": "text/x-python",
   "name": "python",
   "nbconvert_exporter": "python",
   "pygments_lexer": "ipython3",
   "version": "3.12.7"
  }
 },
 "nbformat": 4,
 "nbformat_minor": 5
}
